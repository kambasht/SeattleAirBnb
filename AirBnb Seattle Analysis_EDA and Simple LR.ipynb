{
 "cells": [
  {
   "cell_type": "markdown",
   "metadata": {},
   "source": [
    "** Seattle AirBnb data analysis **\n",
    "\n",
    "Airbnb, founded in 2008, is an online marketplace for arranging or offering lodging, primarily homestays, and tourism experiences. It is one of the world’s largest marketplaces for unique, authentic places to stay, offering over 7 million accommodations and 40,000 handcrafted activities, all powered by local hosts. \n",
    "\n",
    "As part of the Airbnb Inside initiative, this dataset describes the listing activity of homestays in Seattle, WA.\n",
    "\n",
    " My motivation for the project arises from my curiosity to better understand the following:\n",
    " 1. The cheapest and the most expensive neighborhoods in Seattle\n",
    " 2. Which time of the year would be the best time to visit Seattle?\n",
    " 3. Should I prefer booking my AirBnb with a super host?\n",
    " 4. What factors contribute the most towards being a super host?\n",
    " 5. What factors in an AirBnb listing contribute to its price?\n",
    "\n",
    "We will be using the CRISP-DM process to evaluate and analyse the AirBnb Seattle dataset for 2016. The CRISP-DM process covers the following steps:\n",
    "\n",
    "1. Business Understanding\n",
    "2. Data Understanding\n",
    "3. Data Preparation\n",
    "4. Modeling\n",
    "5. Evaluation\n",
    "6. Deployment\n",
    "\n",
    "\n",
    "Credits: (https://en.wikipedia.org/wiki/Cross-industry_standard_process_for_data_mining)"
   ]
  },
  {
   "cell_type": "markdown",
   "metadata": {},
   "source": [
    "**CRISP DM Step 1. Business Understanding:**\n",
    "\n",
    "Airbnb has helped millions of hospitality entrepreneurs monetize their spaces and their passions while keeping the financial benefits of tourism in their own communities. With more than half a billion guest arrivals to date, and accessible in 62 languages across 220+ countries and regions, Airbnb promotes people-to-people connection, community and trust around the world.\n",
    "\n",
    "Credits: https://news.airbnb.com/en-in/about-us/"
   ]
  },
  {
   "cell_type": "code",
   "execution_count": 92,
   "metadata": {
    "_cell_guid": "b1076dfc-b9ad-4769-8c92-a6c4dae69d19",
    "_uuid": "8f2839f25d086af736a60e9eeb907d3b93b6e0e5"
   },
   "outputs": [],
   "source": [
    "# Import packages\n",
    "import numpy as np # linear algebra\n",
    "import pandas as pd # data processing, CSV file I/O (e.g. pd.read_csv)\n",
    "from statistics import mean \n",
    "import seaborn as sns #seaborn plot for visualization\n",
    "sns.set(style=\"darkgrid\")\n",
    "import matplotlib as mpl\n",
    "import matplotlib.pyplot as plt\n",
    "\n",
    "# Suppress warnings for seaborn and pandas SettingwithCopy warnings \n",
    "import warnings\n",
    "warnings.simplefilter(action='ignore', category=FutureWarning)\n",
    "pd.options.mode.chained_assignment = None \n",
    "\n",
    "# library imports for linear regressions modelling and prediction\n",
    "from sklearn.linear_model import LinearRegression, Lasso, Ridge\n",
    "from sklearn.preprocessing import StandardScaler, PolynomialFeatures, MinMaxScaler\n",
    "from sklearn.model_selection import train_test_split, cross_val_score \n",
    "from sklearn.metrics import r2_score, mean_squared_error"
   ]
  },
  {
   "cell_type": "markdown",
   "metadata": {},
   "source": [
    "**CRISP DM Step 2. Data Understanding**"
   ]
  },
  {
   "cell_type": "code",
   "execution_count": 93,
   "metadata": {},
   "outputs": [
    {
     "data": {
      "text/html": [
       "<div>\n",
       "<style scoped>\n",
       "    .dataframe tbody tr th:only-of-type {\n",
       "        vertical-align: middle;\n",
       "    }\n",
       "\n",
       "    .dataframe tbody tr th {\n",
       "        vertical-align: top;\n",
       "    }\n",
       "\n",
       "    .dataframe thead th {\n",
       "        text-align: right;\n",
       "    }\n",
       "</style>\n",
       "<table border=\"1\" class=\"dataframe\">\n",
       "  <thead>\n",
       "    <tr style=\"text-align: right;\">\n",
       "      <th></th>\n",
       "      <th>id</th>\n",
       "      <th>listing_url</th>\n",
       "      <th>scrape_id</th>\n",
       "      <th>last_scraped</th>\n",
       "      <th>name</th>\n",
       "      <th>summary</th>\n",
       "      <th>space</th>\n",
       "      <th>description</th>\n",
       "      <th>experiences_offered</th>\n",
       "      <th>neighborhood_overview</th>\n",
       "      <th>...</th>\n",
       "      <th>review_scores_value</th>\n",
       "      <th>requires_license</th>\n",
       "      <th>license</th>\n",
       "      <th>jurisdiction_names</th>\n",
       "      <th>instant_bookable</th>\n",
       "      <th>cancellation_policy</th>\n",
       "      <th>require_guest_profile_picture</th>\n",
       "      <th>require_guest_phone_verification</th>\n",
       "      <th>calculated_host_listings_count</th>\n",
       "      <th>reviews_per_month</th>\n",
       "    </tr>\n",
       "  </thead>\n",
       "  <tbody>\n",
       "    <tr>\n",
       "      <th>0</th>\n",
       "      <td>241032</td>\n",
       "      <td>https://www.airbnb.com/rooms/241032</td>\n",
       "      <td>20160104002432</td>\n",
       "      <td>2016-01-04</td>\n",
       "      <td>Stylish Queen Anne Apartment</td>\n",
       "      <td>NaN</td>\n",
       "      <td>Make your self at home in this charming one-be...</td>\n",
       "      <td>Make your self at home in this charming one-be...</td>\n",
       "      <td>none</td>\n",
       "      <td>NaN</td>\n",
       "      <td>...</td>\n",
       "      <td>10.00</td>\n",
       "      <td>f</td>\n",
       "      <td>nan</td>\n",
       "      <td>WASHINGTON</td>\n",
       "      <td>f</td>\n",
       "      <td>moderate</td>\n",
       "      <td>f</td>\n",
       "      <td>f</td>\n",
       "      <td>2</td>\n",
       "      <td>4.07</td>\n",
       "    </tr>\n",
       "    <tr>\n",
       "      <th>1</th>\n",
       "      <td>953595</td>\n",
       "      <td>https://www.airbnb.com/rooms/953595</td>\n",
       "      <td>20160104002432</td>\n",
       "      <td>2016-01-04</td>\n",
       "      <td>Bright &amp; Airy Queen Anne Apartment</td>\n",
       "      <td>Chemically sensitive? We've removed the irrita...</td>\n",
       "      <td>Beautiful, hypoallergenic apartment in an extr...</td>\n",
       "      <td>Chemically sensitive? We've removed the irrita...</td>\n",
       "      <td>none</td>\n",
       "      <td>Queen Anne is a wonderful, truly functional vi...</td>\n",
       "      <td>...</td>\n",
       "      <td>10.00</td>\n",
       "      <td>f</td>\n",
       "      <td>nan</td>\n",
       "      <td>WASHINGTON</td>\n",
       "      <td>f</td>\n",
       "      <td>strict</td>\n",
       "      <td>t</td>\n",
       "      <td>t</td>\n",
       "      <td>6</td>\n",
       "      <td>1.48</td>\n",
       "    </tr>\n",
       "    <tr>\n",
       "      <th>2</th>\n",
       "      <td>3308979</td>\n",
       "      <td>https://www.airbnb.com/rooms/3308979</td>\n",
       "      <td>20160104002432</td>\n",
       "      <td>2016-01-04</td>\n",
       "      <td>New Modern House-Amazing water view</td>\n",
       "      <td>New modern house built in 2013.  Spectacular s...</td>\n",
       "      <td>Our house is modern, light and fresh with a wa...</td>\n",
       "      <td>New modern house built in 2013.  Spectacular s...</td>\n",
       "      <td>none</td>\n",
       "      <td>Upper Queen Anne is a charming neighborhood fu...</td>\n",
       "      <td>...</td>\n",
       "      <td>10.00</td>\n",
       "      <td>f</td>\n",
       "      <td>nan</td>\n",
       "      <td>WASHINGTON</td>\n",
       "      <td>f</td>\n",
       "      <td>strict</td>\n",
       "      <td>f</td>\n",
       "      <td>f</td>\n",
       "      <td>2</td>\n",
       "      <td>1.15</td>\n",
       "    </tr>\n",
       "    <tr>\n",
       "      <th>3</th>\n",
       "      <td>7421966</td>\n",
       "      <td>https://www.airbnb.com/rooms/7421966</td>\n",
       "      <td>20160104002432</td>\n",
       "      <td>2016-01-04</td>\n",
       "      <td>Queen Anne Chateau</td>\n",
       "      <td>A charming apartment that sits atop Queen Anne...</td>\n",
       "      <td>NaN</td>\n",
       "      <td>A charming apartment that sits atop Queen Anne...</td>\n",
       "      <td>none</td>\n",
       "      <td>NaN</td>\n",
       "      <td>...</td>\n",
       "      <td>nan</td>\n",
       "      <td>f</td>\n",
       "      <td>nan</td>\n",
       "      <td>WASHINGTON</td>\n",
       "      <td>f</td>\n",
       "      <td>flexible</td>\n",
       "      <td>f</td>\n",
       "      <td>f</td>\n",
       "      <td>1</td>\n",
       "      <td>nan</td>\n",
       "    </tr>\n",
       "    <tr>\n",
       "      <th>4</th>\n",
       "      <td>278830</td>\n",
       "      <td>https://www.airbnb.com/rooms/278830</td>\n",
       "      <td>20160104002432</td>\n",
       "      <td>2016-01-04</td>\n",
       "      <td>Charming craftsman 3 bdm house</td>\n",
       "      <td>Cozy family craftman house in beautiful neighb...</td>\n",
       "      <td>Cozy family craftman house in beautiful neighb...</td>\n",
       "      <td>Cozy family craftman house in beautiful neighb...</td>\n",
       "      <td>none</td>\n",
       "      <td>We are in the beautiful neighborhood of Queen ...</td>\n",
       "      <td>...</td>\n",
       "      <td>9.00</td>\n",
       "      <td>f</td>\n",
       "      <td>nan</td>\n",
       "      <td>WASHINGTON</td>\n",
       "      <td>f</td>\n",
       "      <td>strict</td>\n",
       "      <td>f</td>\n",
       "      <td>f</td>\n",
       "      <td>1</td>\n",
       "      <td>0.89</td>\n",
       "    </tr>\n",
       "  </tbody>\n",
       "</table>\n",
       "<p>5 rows × 92 columns</p>\n",
       "</div>"
      ],
      "text/plain": [
       "        id                           listing_url       scrape_id last_scraped  \\\n",
       "0   241032   https://www.airbnb.com/rooms/241032  20160104002432   2016-01-04   \n",
       "1   953595   https://www.airbnb.com/rooms/953595  20160104002432   2016-01-04   \n",
       "2  3308979  https://www.airbnb.com/rooms/3308979  20160104002432   2016-01-04   \n",
       "3  7421966  https://www.airbnb.com/rooms/7421966  20160104002432   2016-01-04   \n",
       "4   278830   https://www.airbnb.com/rooms/278830  20160104002432   2016-01-04   \n",
       "\n",
       "                                  name  \\\n",
       "0         Stylish Queen Anne Apartment   \n",
       "1   Bright & Airy Queen Anne Apartment   \n",
       "2  New Modern House-Amazing water view   \n",
       "3                   Queen Anne Chateau   \n",
       "4       Charming craftsman 3 bdm house   \n",
       "\n",
       "                                             summary  \\\n",
       "0                                                NaN   \n",
       "1  Chemically sensitive? We've removed the irrita...   \n",
       "2  New modern house built in 2013.  Spectacular s...   \n",
       "3  A charming apartment that sits atop Queen Anne...   \n",
       "4  Cozy family craftman house in beautiful neighb...   \n",
       "\n",
       "                                               space  \\\n",
       "0  Make your self at home in this charming one-be...   \n",
       "1  Beautiful, hypoallergenic apartment in an extr...   \n",
       "2  Our house is modern, light and fresh with a wa...   \n",
       "3                                                NaN   \n",
       "4  Cozy family craftman house in beautiful neighb...   \n",
       "\n",
       "                                         description experiences_offered  \\\n",
       "0  Make your self at home in this charming one-be...                none   \n",
       "1  Chemically sensitive? We've removed the irrita...                none   \n",
       "2  New modern house built in 2013.  Spectacular s...                none   \n",
       "3  A charming apartment that sits atop Queen Anne...                none   \n",
       "4  Cozy family craftman house in beautiful neighb...                none   \n",
       "\n",
       "                               neighborhood_overview  ... review_scores_value  \\\n",
       "0                                                NaN  ...               10.00   \n",
       "1  Queen Anne is a wonderful, truly functional vi...  ...               10.00   \n",
       "2  Upper Queen Anne is a charming neighborhood fu...  ...               10.00   \n",
       "3                                                NaN  ...                 nan   \n",
       "4  We are in the beautiful neighborhood of Queen ...  ...                9.00   \n",
       "\n",
       "  requires_license license jurisdiction_names instant_bookable  \\\n",
       "0                f     nan         WASHINGTON                f   \n",
       "1                f     nan         WASHINGTON                f   \n",
       "2                f     nan         WASHINGTON                f   \n",
       "3                f     nan         WASHINGTON                f   \n",
       "4                f     nan         WASHINGTON                f   \n",
       "\n",
       "  cancellation_policy  require_guest_profile_picture  \\\n",
       "0            moderate                              f   \n",
       "1              strict                              t   \n",
       "2              strict                              f   \n",
       "3            flexible                              f   \n",
       "4              strict                              f   \n",
       "\n",
       "  require_guest_phone_verification calculated_host_listings_count  \\\n",
       "0                                f                              2   \n",
       "1                                t                              6   \n",
       "2                                f                              2   \n",
       "3                                f                              1   \n",
       "4                                f                              1   \n",
       "\n",
       "  reviews_per_month  \n",
       "0              4.07  \n",
       "1              1.48  \n",
       "2              1.15  \n",
       "3               nan  \n",
       "4              0.89  \n",
       "\n",
       "[5 rows x 92 columns]"
      ]
     },
     "execution_count": 93,
     "metadata": {},
     "output_type": "execute_result"
    }
   ],
   "source": [
    "# read in the listings.csv file\n",
    "df = pd.read_csv(\"./listings.csv\")\n",
    "# display the first 5 rows of data\n",
    "df.head()"
   ]
  },
  {
   "cell_type": "markdown",
   "metadata": {},
   "source": [
    "Lets define a method that lets us understand the data through exploratory data analysis. The functions this method performs has been included in the docstrings below"
   ]
  },
  {
   "cell_type": "code",
   "execution_count": 94,
   "metadata": {},
   "outputs": [],
   "source": [
    "def explore_df(df):\n",
    "    '''\n",
    "    INPUT\n",
    "    df - A dataframe\n",
    "    \n",
    "    OUTPUT\n",
    "    print values of different exploratory data analysis steps on the output console\n",
    "    \n",
    "    This function :\n",
    "    1. prints the shape of the dataframe\n",
    "    2. returns a count and list of categorical and numerical columns\n",
    "    3. uses the describe() method to print statistics for the numerical columns\n",
    "    '''\n",
    "    \n",
    "    # display the shape, gives us number of rows and column\n",
    "    print(\"The dataframe has \",df.shape[0],\" rows and \", df.shape[1],\" columns \\n\")\n",
    "    \n",
    "    # Subset to a dataframe only holding the categorical columns\n",
    "    cat_df = return_dtype(df,\"object\")\n",
    "    \n",
    "    # Subset to a dataframe only holding the numerical columns\n",
    "    num_df = return_dtype(df,\"number\")\n",
    "    \n",
    "    print(\"There are \",cat_df.shape[1],\" categorical columns and \",num_df.shape[1],\"numerical columns in the dataframe \\n\")\n",
    "    \n",
    "    print(\"A list of all the categorical columns \\n\")\n",
    "    print(list(cat_df.columns),\"\\n\")\n",
    "    print(\"A list of all the numerical columns \\n\")\n",
    "    print(list(num_df.columns),\"\\n\")\n",
    "    \n",
    "    # gives us a snapshot of all numerical columns and related statistics like mean, min and max values\n",
    "    print(\"Statistical details for the numerical columns \\n\",df.describe())\n",
    "    "
   ]
  },
  {
   "cell_type": "code",
   "execution_count": 95,
   "metadata": {},
   "outputs": [],
   "source": [
    "def return_dtype(df,dtype):\n",
    "    '''\n",
    "    INPUT\n",
    "    df - A dataframe\n",
    "    d_type - the data type of the columns you need to pull from the dataframe i.e. 'number','object'\n",
    "    \n",
    "    OUTPUT\n",
    "    dataframe with only columns of 'dtype' datatype\n",
    "    \n",
    "    This function :\n",
    "    returns a dataframe with columns of the specified data types\n",
    "    '''\n",
    "    return df.select_dtypes(include=[dtype]).copy()"
   ]
  },
  {
   "cell_type": "code",
   "execution_count": 96,
   "metadata": {},
   "outputs": [
    {
     "name": "stdout",
     "output_type": "stream",
     "text": [
      "The dataframe has  3818  rows and  92  columns \n",
      "\n",
      "There are  62  categorical columns and  30 numerical columns in the dataframe \n",
      "\n",
      "A list of all the categorical columns \n",
      "\n",
      "['listing_url', 'last_scraped', 'name', 'summary', 'space', 'description', 'experiences_offered', 'neighborhood_overview', 'notes', 'transit', 'thumbnail_url', 'medium_url', 'picture_url', 'xl_picture_url', 'host_url', 'host_name', 'host_since', 'host_location', 'host_about', 'host_response_time', 'host_response_rate', 'host_acceptance_rate', 'host_is_superhost', 'host_thumbnail_url', 'host_picture_url', 'host_neighbourhood', 'host_verifications', 'host_has_profile_pic', 'host_identity_verified', 'street', 'neighbourhood', 'neighbourhood_cleansed', 'neighbourhood_group_cleansed', 'city', 'state', 'zipcode', 'market', 'smart_location', 'country_code', 'country', 'is_location_exact', 'property_type', 'room_type', 'bed_type', 'amenities', 'price', 'weekly_price', 'monthly_price', 'security_deposit', 'cleaning_fee', 'extra_people', 'calendar_updated', 'has_availability', 'calendar_last_scraped', 'first_review', 'last_review', 'requires_license', 'jurisdiction_names', 'instant_bookable', 'cancellation_policy', 'require_guest_profile_picture', 'require_guest_phone_verification'] \n",
      "\n",
      "A list of all the numerical columns \n",
      "\n",
      "['id', 'scrape_id', 'host_id', 'host_listings_count', 'host_total_listings_count', 'latitude', 'longitude', 'accommodates', 'bathrooms', 'bedrooms', 'beds', 'square_feet', 'guests_included', 'minimum_nights', 'maximum_nights', 'availability_30', 'availability_60', 'availability_90', 'availability_365', 'number_of_reviews', 'review_scores_rating', 'review_scores_accuracy', 'review_scores_cleanliness', 'review_scores_checkin', 'review_scores_communication', 'review_scores_location', 'review_scores_value', 'license', 'calculated_host_listings_count', 'reviews_per_month'] \n",
      "\n",
      "Statistical details for the numerical columns \n",
      "                id         scrape_id     host_id  host_listings_count  \\\n",
      "count     3818.00           3818.00     3818.00              3816.00   \n",
      "mean   5550111.42 20160104002432.00 15785555.11                 7.16   \n",
      "std    2962660.48              0.00 14583815.27                28.63   \n",
      "min       3335.00 20160104002432.00     4193.00                 1.00   \n",
      "25%    3258256.25 20160104002432.00  3275204.00                 1.00   \n",
      "50%    6118244.50 20160104002432.00 10558142.00                 1.00   \n",
      "75%    8035126.75 20160104002432.00 25903093.25                 3.00   \n",
      "max   10340165.00 20160104002432.00 53208610.00               502.00   \n",
      "\n",
      "       host_total_listings_count  latitude  longitude  accommodates  \\\n",
      "count                    3816.00   3818.00    3818.00       3818.00   \n",
      "mean                        7.16     47.63    -122.33          3.35   \n",
      "std                        28.63      0.04       0.03          1.98   \n",
      "min                         1.00     47.51    -122.42          1.00   \n",
      "25%                         1.00     47.61    -122.35          2.00   \n",
      "50%                         1.00     47.62    -122.33          3.00   \n",
      "75%                         3.00     47.66    -122.31          4.00   \n",
      "max                       502.00     47.73    -122.24         16.00   \n",
      "\n",
      "       bathrooms  bedrooms  ...  review_scores_rating  review_scores_accuracy  \\\n",
      "count    3802.00   3812.00  ...               3171.00                 3160.00   \n",
      "mean        1.26      1.31  ...                 94.54                    9.64   \n",
      "std         0.59      0.88  ...                  6.61                    0.70   \n",
      "min         0.00      0.00  ...                 20.00                    2.00   \n",
      "25%         1.00      1.00  ...                 93.00                    9.00   \n",
      "50%         1.00      1.00  ...                 96.00                   10.00   \n",
      "75%         1.00      2.00  ...                 99.00                   10.00   \n",
      "max         8.00      7.00  ...                100.00                   10.00   \n",
      "\n",
      "       review_scores_cleanliness  review_scores_checkin  \\\n",
      "count                    3165.00                3160.00   \n",
      "mean                        9.56                   9.79   \n",
      "std                         0.80                   0.60   \n",
      "min                         3.00                   2.00   \n",
      "25%                         9.00                  10.00   \n",
      "50%                        10.00                  10.00   \n",
      "75%                        10.00                  10.00   \n",
      "max                        10.00                  10.00   \n",
      "\n",
      "       review_scores_communication  review_scores_location  \\\n",
      "count                      3167.00                 3163.00   \n",
      "mean                          9.81                    9.61   \n",
      "std                           0.57                    0.63   \n",
      "min                           2.00                    4.00   \n",
      "25%                          10.00                    9.00   \n",
      "50%                          10.00                   10.00   \n",
      "75%                          10.00                   10.00   \n",
      "max                          10.00                   10.00   \n",
      "\n",
      "       review_scores_value  license  calculated_host_listings_count  \\\n",
      "count              3162.00     0.00                         3818.00   \n",
      "mean                  9.45      nan                            2.95   \n",
      "std                   0.75      nan                            5.89   \n",
      "min                   2.00      nan                            1.00   \n",
      "25%                   9.00      nan                            1.00   \n",
      "50%                  10.00      nan                            1.00   \n",
      "75%                  10.00      nan                            2.00   \n",
      "max                  10.00      nan                           37.00   \n",
      "\n",
      "       reviews_per_month  \n",
      "count            3191.00  \n",
      "mean                2.08  \n",
      "std                 1.82  \n",
      "min                 0.02  \n",
      "25%                 0.69  \n",
      "50%                 1.54  \n",
      "75%                 3.00  \n",
      "max                12.15  \n",
      "\n",
      "[8 rows x 30 columns]\n"
     ]
    }
   ],
   "source": [
    "explore_df(df)"
   ]
  },
  {
   "cell_type": "code",
   "execution_count": 97,
   "metadata": {},
   "outputs": [],
   "source": [
    "def transform_col(df,cols_list, replace_from, replace_to , to_data_type):\n",
    "    '''\n",
    "    INPUT\n",
    "    df - A dataframe\n",
    "    cols_list - list of columns that need to be transformed\n",
    "    replace_from - the character that needs to be replaced in that column \n",
    "    replace_to - the character that is the replacement i.e. the replaced value\n",
    "    to_data_type - the data type to which this column needs to be transformed to\n",
    "    \n",
    "    OUTPUT\n",
    "    None - The dataframe columns are modified inplace i.e. no new columns are created, \n",
    "           existing columns in the dataframeare modified\n",
    "    \n",
    "    This function :\n",
    "    1. replaces characters in columns with a user specified value\n",
    "    2. changes the data types for user specified column(s)\n",
    "    '''\n",
    "    for col in cols_list:\n",
    "        df.loc[:,col] = df.loc[:,col].str.replace(replace_from,replace_to).astype(to_data_type)"
   ]
  },
  {
   "cell_type": "markdown",
   "metadata": {},
   "source": [
    "**CRISP DM Step 3. Data Preparation **"
   ]
  },
  {
   "cell_type": "code",
   "execution_count": 98,
   "metadata": {},
   "outputs": [],
   "source": [
    "# columns like price, host response rate and host acceptance rate need to be converted from an object type column to float\n",
    "# this is done to make sure we can treat them as numerical columns for our analysis in the next steps\n",
    "\n",
    "# remove the $ sign and commas from the price value\n",
    "transform_col(df,[\"price\"], \",|\\$\", \"\" , float)\n",
    "\n",
    "# remove % sign from host reponse and acceptance rate\n",
    "transform_col(df,[\"host_response_rate\",'host_acceptance_rate'], \"%\", \"\" , float)\n",
    "    "
   ]
  },
  {
   "cell_type": "markdown",
   "metadata": {},
   "source": [
    "Next we are defining methods for exploring null values in the dataset. This allows us to re-use the methods defined below leading us to avoid any columns which have a large number of null values and hence can mislead us in our analysis."
   ]
  },
  {
   "cell_type": "code",
   "execution_count": 99,
   "metadata": {},
   "outputs": [],
   "source": [
    "def explore_null(df):\n",
    "    '''\n",
    "    INPUT\n",
    "    df - A dataframe\n",
    "    \n",
    "    OUTPUT\n",
    "    print values of columns which have 25,50 or 75% null values in them\n",
    "    \n",
    "    This function :\n",
    "    1. prints the column which has all null values\n",
    "    2. print values of columns which have 25,50 or 75% null values in them\n",
    "    '''\n",
    "    \n",
    "    # print list of columns that have \"all\" null values\n",
    "    all_nulls = set(df.columns[df.isnull().all()])\n",
    "    print(\"The column(s) with all null values: \",all_nulls,\"\\n\")\n",
    "    \n",
    "    for perc in range(25,100,25):\n",
    "        # columns with more than x% of null values\n",
    "        print(\" More than \",perc,\"% of values are null for columns \",set(df.columns[df.isnull().mean() > (perc/100)]),\"\\n\")\n",
    "        "
   ]
  },
  {
   "cell_type": "code",
   "execution_count": 100,
   "metadata": {},
   "outputs": [],
   "source": [
    "def drop_all_nulls(df):\n",
    "    '''\n",
    "    INPUT\n",
    "    df - A dataframe\n",
    "    \n",
    "    OUTPUT\n",
    "    df - A modified dataframe with any row or column with 'all' null values dropped\n",
    "    \n",
    "    This function :\n",
    "    any row or column with all null values are dropped\n",
    "    '''\n",
    "    \n",
    "    # drop any columns (axis=1) which have 'all' null values\n",
    "    # make sure you explicitly mention the axis as 1 to indicate you are removing columns\n",
    "    # default for dropna method is axis=0 which means any rows with null values will be removed\n",
    "    df = df.dropna(how=\"all\", axis=1)\n",
    "    \n",
    "    # drop any rows (axis=0) which have all null values\n",
    "    df = df.dropna(how=\"all\", axis=0)\n",
    "    \n",
    "    return df"
   ]
  },
  {
   "cell_type": "code",
   "execution_count": 101,
   "metadata": {},
   "outputs": [
    {
     "name": "stdout",
     "output_type": "stream",
     "text": [
      "The column(s) with all null values:  {'license'} \n",
      "\n",
      " More than  25 % of values are null for columns  {'cleaning_fee', 'license', 'weekly_price', 'security_deposit', 'square_feet', 'neighborhood_overview', 'notes', 'monthly_price'} \n",
      "\n",
      " More than  50 % of values are null for columns  {'security_deposit', 'monthly_price', 'license', 'square_feet'} \n",
      "\n",
      " More than  75 % of values are null for columns  {'license', 'square_feet'} \n",
      "\n"
     ]
    }
   ],
   "source": [
    "explore_null(df)\n",
    "\n",
    "df = drop_all_nulls(df)"
   ]
  },
  {
   "cell_type": "markdown",
   "metadata": {},
   "source": [
    "We now explore the distribution of data for some of the important parameters in the dataset:\n",
    "\n",
    "1. Property types listed\n",
    "2. Neighborhood \n",
    "3. Price range\n",
    "4. Review_scores rating"
   ]
  },
  {
   "cell_type": "code",
   "execution_count": 102,
   "metadata": {},
   "outputs": [
    {
     "data": {
      "image/png": "[encoded data removed]",
      "text/plain": [
       "<Figure size 864x576 with 1 Axes>"
      ]
     },
     "metadata": {},
     "output_type": "display_data"
    }
   ],
   "source": [
    "# Top 5 Property types in the data set based on number of listings\n",
    "sns.set(rc={'figure.figsize':(12,8)}, font_scale=1.5)\n",
    "sns.countplot(y=\"property_type\",data=df,order = df['property_type'].value_counts()[:5].index);\n",
    "\n",
    "# Visualization settings \n",
    "plt.suptitle(\"Top 5 Property types based on no of listings\", fontsize=18)\n",
    "plt.xlabel('No. of listings', fontsize=14)\n",
    "plt.ylabel('Property type', fontsize=14)\n",
    "plt.show()"
   ]
  },
  {
   "cell_type": "markdown",
   "metadata": {},
   "source": [
    "** Observation **\n",
    "\n",
    "Houses and Apartments form the majority share (almost 90%) of the listings, followed by Townhouses and Condos"
   ]
  },
  {
   "cell_type": "code",
   "execution_count": 103,
   "metadata": {},
   "outputs": [
    {
     "data": {
      "image/png": "[encoded data removed]",
      "text/plain": [
       "<Figure size 864x576 with 1 Axes>"
      ]
     },
     "metadata": {},
     "output_type": "display_data"
    }
   ],
   "source": [
    "# Top 5 Neighborhoods based on number of listings\n",
    "sns.countplot(y=\"neighbourhood\",data=df,order = df['neighbourhood'].value_counts()[:5].index);\n",
    "\n",
    "plt.suptitle(\"Top 5 Neighborhoods based on number of listings\", fontsize=18)\n",
    "plt.xlabel('No. of listings', fontsize=14)\n",
    "plt.ylabel('Neighbourhood', fontsize=14)\n",
    "plt.show()"
   ]
  },
  {
   "cell_type": "markdown",
   "metadata": {},
   "source": [
    "** Observation **\n",
    "\n",
    "The Capitol Hill neighbourhood has the most number of listings followed by Ballard and Belltown."
   ]
  },
  {
   "cell_type": "code",
   "execution_count": 104,
   "metadata": {},
   "outputs": [
    {
     "data": {
      "image/png": "[encoded data removed]",
      "text/plain": [
       "<Figure size 864x576 with 1 Axes>"
      ]
     },
     "metadata": {},
     "output_type": "display_data"
    }
   ],
   "source": [
    "# plot values for listing prices in the dataset in form of a histogram\n",
    "# this helps us in understanding the overall distribution of listing prices\n",
    "ax = df['price'].hist(bins=10,ylabelsize=15,xlabelsize=15, weights=np.ones_like(df[df.columns[0]]) * 100. / len(df));\n",
    "\n",
    "# set x and y text labels\n",
    "plt.suptitle(\"Frequency distribution of Prices\", fontsize=20)\n",
    "plt.xlabel('Price range ($)', fontsize=16)\n",
    "plt.ylabel('% of Listings', fontsize=16)\n",
    "\n",
    "plt.show()"
   ]
  },
  {
   "cell_type": "markdown",
   "metadata": {},
   "source": [
    "** Observation **\n",
    "\n",
    "Based on the histogram, we can observe that approximately 60% of the listings fall into the \"below 100 dollars\"  bracket followed by 30% of them falling in the 100 to 200 dollar range, with expensive rentals going upto 500 to 900 dollars for a day "
   ]
  },
  {
   "cell_type": "markdown",
   "metadata": {},
   "source": [
    "We now move towards looking at the questions we had posed in the beginning"
   ]
  },
  {
   "cell_type": "markdown",
   "metadata": {},
   "source": [
    "**Q1. The cheapest and the most expensive neighborhoods in Seattle**"
   ]
  },
  {
   "cell_type": "code",
   "execution_count": 105,
   "metadata": {},
   "outputs": [
    {
     "data": {
      "text/html": [
       "<div>\n",
       "<style scoped>\n",
       "    .dataframe tbody tr th:only-of-type {\n",
       "        vertical-align: middle;\n",
       "    }\n",
       "\n",
       "    .dataframe tbody tr th {\n",
       "        vertical-align: top;\n",
       "    }\n",
       "\n",
       "    .dataframe thead th {\n",
       "        text-align: right;\n",
       "    }\n",
       "</style>\n",
       "<table border=\"1\" class=\"dataframe\">\n",
       "  <thead>\n",
       "    <tr style=\"text-align: right;\">\n",
       "      <th></th>\n",
       "      <th>neighbourhood</th>\n",
       "      <th>price</th>\n",
       "    </tr>\n",
       "  </thead>\n",
       "  <tbody>\n",
       "    <tr>\n",
       "      <th>17</th>\n",
       "      <td>Fairmount Park</td>\n",
       "      <td>370.00</td>\n",
       "    </tr>\n",
       "    <tr>\n",
       "      <th>31</th>\n",
       "      <td>Industrial District</td>\n",
       "      <td>245.00</td>\n",
       "    </tr>\n",
       "    <tr>\n",
       "      <th>58</th>\n",
       "      <td>Portage Bay</td>\n",
       "      <td>241.43</td>\n",
       "    </tr>\n",
       "    <tr>\n",
       "      <th>78</th>\n",
       "      <td>Westlake</td>\n",
       "      <td>197.00</td>\n",
       "    </tr>\n",
       "    <tr>\n",
       "      <th>0</th>\n",
       "      <td>Alki</td>\n",
       "      <td>196.65</td>\n",
       "    </tr>\n",
       "  </tbody>\n",
       "</table>\n",
       "</div>"
      ],
      "text/plain": [
       "          neighbourhood  price\n",
       "17       Fairmount Park 370.00\n",
       "31  Industrial District 245.00\n",
       "58          Portage Bay 241.43\n",
       "78             Westlake 197.00\n",
       "0                  Alki 196.65"
      ]
     },
     "execution_count": 105,
     "metadata": {},
     "output_type": "execute_result"
    }
   ],
   "source": [
    "# Data Preparation\n",
    "\n",
    "# select the columns we would need for the analysis, neighbourhood and price\n",
    "df_nbrhood = df[['neighbourhood','price']]\n",
    "\n",
    "# grouping the prices by the neighbourhood to a mean value\n",
    "grouped_df_nbrhood = df_nbrhood.groupby(['neighbourhood']).mean().reset_index()\n",
    "\n",
    "# format price to be a 2 decimal point value\n",
    "pd.options.display.float_format = '{:.2f}'.format\n",
    "\n",
    "# sort price value in descending order\n",
    "grouped_df_nbrhood.sort_values('price',ascending=False)[:5]\n"
   ]
  },
  {
   "cell_type": "code",
   "execution_count": 106,
   "metadata": {},
   "outputs": [
    {
     "data": {
      "text/html": [
       "<div>\n",
       "<style scoped>\n",
       "    .dataframe tbody tr th:only-of-type {\n",
       "        vertical-align: middle;\n",
       "    }\n",
       "\n",
       "    .dataframe tbody tr th {\n",
       "        vertical-align: top;\n",
       "    }\n",
       "\n",
       "    .dataframe thead th {\n",
       "        text-align: right;\n",
       "    }\n",
       "</style>\n",
       "<table border=\"1\" class=\"dataframe\">\n",
       "  <thead>\n",
       "    <tr style=\"text-align: right;\">\n",
       "      <th></th>\n",
       "      <th>neighbourhood</th>\n",
       "      <th>price</th>\n",
       "    </tr>\n",
       "  </thead>\n",
       "  <tbody>\n",
       "    <tr>\n",
       "      <th>64</th>\n",
       "      <td>Roxhill</td>\n",
       "      <td>60.00</td>\n",
       "    </tr>\n",
       "    <tr>\n",
       "      <th>52</th>\n",
       "      <td>Olympic Hills</td>\n",
       "      <td>63.67</td>\n",
       "    </tr>\n",
       "    <tr>\n",
       "      <th>15</th>\n",
       "      <td>Dunlap</td>\n",
       "      <td>75.46</td>\n",
       "    </tr>\n",
       "    <tr>\n",
       "      <th>60</th>\n",
       "      <td>Rainier Beach</td>\n",
       "      <td>76.72</td>\n",
       "    </tr>\n",
       "    <tr>\n",
       "      <th>23</th>\n",
       "      <td>Georgetown</td>\n",
       "      <td>77.00</td>\n",
       "    </tr>\n",
       "  </tbody>\n",
       "</table>\n",
       "</div>"
      ],
      "text/plain": [
       "    neighbourhood  price\n",
       "64        Roxhill  60.00\n",
       "52  Olympic Hills  63.67\n",
       "15         Dunlap  75.46\n",
       "60  Rainier Beach  76.72\n",
       "23     Georgetown  77.00"
      ]
     },
     "execution_count": 106,
     "metadata": {},
     "output_type": "execute_result"
    }
   ],
   "source": [
    "# Data Evaluation\n",
    "\n",
    "# sort price value in ascending order to look for the top 5 cheapest places to live at\n",
    "grouped_df_nbrhood.sort_values('price',ascending=True)[:5]"
   ]
  },
  {
   "cell_type": "markdown",
   "metadata": {},
   "source": [
    "The cheapest neighbourhoods, if you are travelling on a budget, are Roxhill, Olympic Hills and Dunlap. On the other hand, the top most expensive places are Fairmount Park with an average price of 370 , followed by Industrial district and Portage Bay for 245 and 241 respectively. Well, next time you are planning that trip for Seattle, you know where to look for (and which ones to avoid) for the most affordable prices."
   ]
  },
  {
   "cell_type": "markdown",
   "metadata": {},
   "source": [
    "**Q2. Which time of the year would be the best time to visit Seattle?**"
   ]
  },
  {
   "cell_type": "code",
   "execution_count": 107,
   "metadata": {},
   "outputs": [
    {
     "data": {
      "text/html": [
       "<div>\n",
       "<style scoped>\n",
       "    .dataframe tbody tr th:only-of-type {\n",
       "        vertical-align: middle;\n",
       "    }\n",
       "\n",
       "    .dataframe tbody tr th {\n",
       "        vertical-align: top;\n",
       "    }\n",
       "\n",
       "    .dataframe thead th {\n",
       "        text-align: right;\n",
       "    }\n",
       "</style>\n",
       "<table border=\"1\" class=\"dataframe\">\n",
       "  <thead>\n",
       "    <tr style=\"text-align: right;\">\n",
       "      <th></th>\n",
       "      <th>listing_id</th>\n",
       "      <th>date</th>\n",
       "      <th>available</th>\n",
       "      <th>price</th>\n",
       "      <th>year</th>\n",
       "      <th>month</th>\n",
       "    </tr>\n",
       "  </thead>\n",
       "  <tbody>\n",
       "    <tr>\n",
       "      <th>0</th>\n",
       "      <td>241032</td>\n",
       "      <td>2016-01-04</td>\n",
       "      <td>t</td>\n",
       "      <td>$85.00</td>\n",
       "      <td>2016</td>\n",
       "      <td>1</td>\n",
       "    </tr>\n",
       "    <tr>\n",
       "      <th>1</th>\n",
       "      <td>241032</td>\n",
       "      <td>2016-01-05</td>\n",
       "      <td>t</td>\n",
       "      <td>$85.00</td>\n",
       "      <td>2016</td>\n",
       "      <td>1</td>\n",
       "    </tr>\n",
       "    <tr>\n",
       "      <th>2</th>\n",
       "      <td>241032</td>\n",
       "      <td>2016-01-06</td>\n",
       "      <td>f</td>\n",
       "      <td>NaN</td>\n",
       "      <td>2016</td>\n",
       "      <td>1</td>\n",
       "    </tr>\n",
       "    <tr>\n",
       "      <th>3</th>\n",
       "      <td>241032</td>\n",
       "      <td>2016-01-07</td>\n",
       "      <td>f</td>\n",
       "      <td>NaN</td>\n",
       "      <td>2016</td>\n",
       "      <td>1</td>\n",
       "    </tr>\n",
       "    <tr>\n",
       "      <th>4</th>\n",
       "      <td>241032</td>\n",
       "      <td>2016-01-08</td>\n",
       "      <td>f</td>\n",
       "      <td>NaN</td>\n",
       "      <td>2016</td>\n",
       "      <td>1</td>\n",
       "    </tr>\n",
       "  </tbody>\n",
       "</table>\n",
       "</div>"
      ],
      "text/plain": [
       "   listing_id        date available   price  year  month\n",
       "0      241032  2016-01-04         t  $85.00  2016      1\n",
       "1      241032  2016-01-05         t  $85.00  2016      1\n",
       "2      241032  2016-01-06         f     NaN  2016      1\n",
       "3      241032  2016-01-07         f     NaN  2016      1\n",
       "4      241032  2016-01-08         f     NaN  2016      1"
      ]
     },
     "execution_count": 107,
     "metadata": {},
     "output_type": "execute_result"
    }
   ],
   "source": [
    "# Data understanding\n",
    "\n",
    "# read in the listings.csv file\n",
    "df_cal = pd.read_csv(\"./calendar.csv\")\n",
    "\n",
    "# create new columns with months and year separated out\n",
    "df_cal['year'] = pd.DatetimeIndex(df_cal['date']).year\n",
    "df_cal['month'] = pd.DatetimeIndex(df_cal['date']).month\n",
    "\n",
    "# display the first 5 rows of data\n",
    "df_cal.head()"
   ]
  },
  {
   "cell_type": "code",
   "execution_count": 108,
   "metadata": {},
   "outputs": [
    {
     "name": "stdout",
     "output_type": "stream",
     "text": [
      "The dataframe has  1393570  rows and  6  columns \n",
      "\n",
      "There are  3  categorical columns and  3 numerical columns in the dataframe \n",
      "\n",
      "A list of all the categorical columns \n",
      "\n",
      "['date', 'available', 'price'] \n",
      "\n",
      "A list of all the numerical columns \n",
      "\n",
      "['listing_id', 'year', 'month'] \n",
      "\n",
      "Statistical details for the numerical columns \n",
      "        listing_id       year      month\n",
      "count  1393570.00 1393570.00 1393570.00\n",
      "mean   5550111.42    2016.01       6.53\n",
      "std    2962273.53       0.07       3.44\n",
      "min       3335.00    2016.00       1.00\n",
      "25%    3258213.00    2016.00       4.00\n",
      "50%    6118244.50    2016.00       7.00\n",
      "75%    8035212.00    2016.00      10.00\n",
      "max   10340165.00    2017.00      12.00\n"
     ]
    }
   ],
   "source": [
    "explore_df(df_cal)"
   ]
  },
  {
   "cell_type": "markdown",
   "metadata": {},
   "source": [
    "**Conclusion**\n",
    "\n",
    "Years included are only 2016 and 2017\n",
    "Prices range from a min of 10 to a max of 1650"
   ]
  },
  {
   "cell_type": "code",
   "execution_count": 109,
   "metadata": {},
   "outputs": [
    {
     "name": "stdout",
     "output_type": "stream",
     "text": [
      "The column(s) with all null values:  set() \n",
      "\n",
      " More than  25 % of values are null for columns  {'price'} \n",
      "\n",
      " More than  50 % of values are null for columns  set() \n",
      "\n",
      " More than  75 % of values are null for columns  set() \n",
      "\n"
     ]
    }
   ],
   "source": [
    "# check for null columns in the dataframe\n",
    "explore_null(df_cal)"
   ]
  },
  {
   "cell_type": "code",
   "execution_count": 110,
   "metadata": {},
   "outputs": [
    {
     "data": {
      "text/plain": [
       "0.32938998399793334"
      ]
     },
     "execution_count": 110,
     "metadata": {},
     "output_type": "execute_result"
    }
   ],
   "source": [
    "# check what % of values are null in price\n",
    "np.mean(df_cal.price.isnull())"
   ]
  },
  {
   "cell_type": "markdown",
   "metadata": {},
   "source": [
    "Around 33% of values for prices are null. We will be using the method of forward fill for imputing these null values with the last valid price value in the column whenever there is a null value encountered."
   ]
  },
  {
   "cell_type": "code",
   "execution_count": 111,
   "metadata": {},
   "outputs": [],
   "source": [
    "# Data Preparation\n",
    "\n",
    "# drop the column 'available' as we wont be using it for our analysis\n",
    "df_cal.drop(['available'],axis=1,inplace=True)\n",
    "\n",
    "# use the transform_col method to convert price into a float dtype\n",
    "transform_col(df_cal,[\"price\"], \",|\\$\", \"\" , float)\n",
    "\n",
    "# handle missing values by using the forward fill method\n",
    "df_cal['price'].fillna(method=\"ffill\",inplace=True)"
   ]
  },
  {
   "cell_type": "code",
   "execution_count": 112,
   "metadata": {},
   "outputs": [
    {
     "data": {
      "text/html": [
       "<div>\n",
       "<style scoped>\n",
       "    .dataframe tbody tr th:only-of-type {\n",
       "        vertical-align: middle;\n",
       "    }\n",
       "\n",
       "    .dataframe tbody tr th {\n",
       "        vertical-align: top;\n",
       "    }\n",
       "\n",
       "    .dataframe thead th {\n",
       "        text-align: right;\n",
       "    }\n",
       "</style>\n",
       "<table border=\"1\" class=\"dataframe\">\n",
       "  <thead>\n",
       "    <tr style=\"text-align: right;\">\n",
       "      <th></th>\n",
       "      <th>listing_id</th>\n",
       "      <th>date</th>\n",
       "      <th>price</th>\n",
       "      <th>year</th>\n",
       "      <th>month</th>\n",
       "    </tr>\n",
       "  </thead>\n",
       "  <tbody>\n",
       "    <tr>\n",
       "      <th>0</th>\n",
       "      <td>241032</td>\n",
       "      <td>2016-01-04</td>\n",
       "      <td>85.00</td>\n",
       "      <td>2016</td>\n",
       "      <td>1</td>\n",
       "    </tr>\n",
       "    <tr>\n",
       "      <th>1</th>\n",
       "      <td>241032</td>\n",
       "      <td>2016-01-05</td>\n",
       "      <td>85.00</td>\n",
       "      <td>2016</td>\n",
       "      <td>1</td>\n",
       "    </tr>\n",
       "    <tr>\n",
       "      <th>2</th>\n",
       "      <td>241032</td>\n",
       "      <td>2016-01-06</td>\n",
       "      <td>85.00</td>\n",
       "      <td>2016</td>\n",
       "      <td>1</td>\n",
       "    </tr>\n",
       "    <tr>\n",
       "      <th>3</th>\n",
       "      <td>241032</td>\n",
       "      <td>2016-01-07</td>\n",
       "      <td>85.00</td>\n",
       "      <td>2016</td>\n",
       "      <td>1</td>\n",
       "    </tr>\n",
       "    <tr>\n",
       "      <th>4</th>\n",
       "      <td>241032</td>\n",
       "      <td>2016-01-08</td>\n",
       "      <td>85.00</td>\n",
       "      <td>2016</td>\n",
       "      <td>1</td>\n",
       "    </tr>\n",
       "  </tbody>\n",
       "</table>\n",
       "</div>"
      ],
      "text/plain": [
       "   listing_id        date  price  year  month\n",
       "0      241032  2016-01-04  85.00  2016      1\n",
       "1      241032  2016-01-05  85.00  2016      1\n",
       "2      241032  2016-01-06  85.00  2016      1\n",
       "3      241032  2016-01-07  85.00  2016      1\n",
       "4      241032  2016-01-08  85.00  2016      1"
      ]
     },
     "execution_count": 112,
     "metadata": {},
     "output_type": "execute_result"
    }
   ],
   "source": [
    "df_cal.head()"
   ]
  },
  {
   "cell_type": "code",
   "execution_count": 113,
   "metadata": {},
   "outputs": [
    {
     "data": {
      "image/png": "[encoded data removed]",
      "text/plain": [
       "<Figure size 864x576 with 1 Axes>"
      ]
     },
     "metadata": {},
     "output_type": "display_data"
    }
   ],
   "source": [
    "# group the dataframe by month and price\n",
    "df_cal_grouped = df_cal.groupby(['month'])['price'].mean()\n",
    "\n",
    "# plot a graph of price vs month\n",
    "ax = df_cal_grouped.plot(lw=2, colormap='jet', marker='.', markersize=25);\n",
    "ax.set_xlabel(\"Month\")\n",
    "ax.set_ylabel(\"Price\")\n",
    "\n",
    "# set x and y text labels\n",
    "plt.suptitle(\"Seasonaility in AirBnb prices in Seattle\", fontsize=20)\n",
    "plt.xlabel('Month', fontsize=16)\n",
    "plt.ylabel('Price($)', fontsize=16)\n",
    "\n",
    "plt.show()"
   ]
  },
  {
   "cell_type": "markdown",
   "metadata": {},
   "source": [
    "**Conclusion**\n",
    "\n",
    "June to September is the busiest time to be in Seattle. Depending on whether you are running on a budget or willing to spend some extra bucks, you can plan your next trip to Seattle based on our analysis here."
   ]
  },
  {
   "cell_type": "markdown",
   "metadata": {},
   "source": [
    "**Q3. Should I prefer booking my AirBnb with a super host?**"
   ]
  },
  {
   "cell_type": "markdown",
   "metadata": {},
   "source": [
    "**How AirBnb selects its super hosts**\n",
    "\n",
    "The Superhost program celebrates and rewards Airbnb’s top-rated and most experienced hosts. AirBnB requires hosts to qualify for a level of qualification, explained below, in order to get certified as a superhost:\n",
    " \n",
    "a) **4.8+ overall rating**\n",
    "Superhosts have a 4.8 or higher average overall rating based on reviews from their Airbnb guests in the past year.\n",
    "\n",
    "b) **10+ stays**\n",
    "Superhosts have completed at least 10 stays in the past year or 100 nights over at least 3 completed stays.\n",
    "\n",
    "c) **Less than 1% cancellation rate**\n",
    "Superhosts cancel less than 1% of the time, not including extenuating circumstances. This means 0 cancellations for hosts with fewer than 100 reservations in a year.\n",
    "\n",
    "d) **90% response rate**\n",
    "Superhosts respond to 90% of new messages within 24 hours. When guests ask you questions, they know that a quick response is only a message away.\n",
    "\n",
    "Credits: https://www.airbnb.com/superhost"
   ]
  },
  {
   "cell_type": "code",
   "execution_count": 114,
   "metadata": {},
   "outputs": [],
   "source": [
    "# select the columns which will help us analyze the review scores based on host's status as a superhost\n",
    "df_suph_rating = df[['host_is_superhost','review_scores_rating','number_of_reviews']]\n",
    "\n",
    "# transform the values in the \"host_is_superhost\" column to convert t values to true and f to false\n",
    "df_suph_rating.loc[:,'host_is_superhost'] = df_suph_rating.loc[:,'host_is_superhost'].apply(lambda x: \"yes\" if x=='t' else \"no\");"
   ]
  },
  {
   "cell_type": "code",
   "execution_count": 115,
   "metadata": {},
   "outputs": [
    {
     "data": {
      "text/html": [
       "<div>\n",
       "<style scoped>\n",
       "    .dataframe tbody tr th:only-of-type {\n",
       "        vertical-align: middle;\n",
       "    }\n",
       "\n",
       "    .dataframe tbody tr th {\n",
       "        vertical-align: top;\n",
       "    }\n",
       "\n",
       "    .dataframe thead th {\n",
       "        text-align: right;\n",
       "    }\n",
       "</style>\n",
       "<table border=\"1\" class=\"dataframe\">\n",
       "  <thead>\n",
       "    <tr style=\"text-align: right;\">\n",
       "      <th></th>\n",
       "      <th>review_scores_rating</th>\n",
       "      <th>number_of_reviews</th>\n",
       "    </tr>\n",
       "    <tr>\n",
       "      <th>host_is_superhost</th>\n",
       "      <th></th>\n",
       "      <th></th>\n",
       "    </tr>\n",
       "  </thead>\n",
       "  <tbody>\n",
       "    <tr>\n",
       "      <th>no</th>\n",
       "      <td>93.65</td>\n",
       "      <td>17.22</td>\n",
       "    </tr>\n",
       "    <tr>\n",
       "      <th>yes</th>\n",
       "      <td>97.40</td>\n",
       "      <td>41.76</td>\n",
       "    </tr>\n",
       "  </tbody>\n",
       "</table>\n",
       "</div>"
      ],
      "text/plain": [
       "                   review_scores_rating  number_of_reviews\n",
       "host_is_superhost                                         \n",
       "no                                93.65              17.22\n",
       "yes                               97.40              41.76"
      ]
     },
     "execution_count": 115,
     "metadata": {},
     "output_type": "execute_result"
    }
   ],
   "source": [
    "# calculate the mean values of review scores and the number of reviews based on superhost status\n",
    "df_suph_rating.groupby(['host_is_superhost']).mean()"
   ]
  },
  {
   "cell_type": "code",
   "execution_count": 116,
   "metadata": {},
   "outputs": [
    {
     "data": {
      "image/png": "[encoded data removed]",
      "text/plain": [
       "<Figure size 720x576 with 1 Axes>"
      ]
     },
     "metadata": {},
     "output_type": "display_data"
    }
   ],
   "source": [
    "# a further look at the box plot distribution of the score rating based on superhost status\n",
    "df_suph_rating.boxplot(column=['review_scores_rating'],by=\"host_is_superhost\",figsize=(10, 8));\n",
    "\n",
    "plt.show()"
   ]
  },
  {
   "cell_type": "markdown",
   "metadata": {},
   "source": [
    "**Conclusion**\n",
    "\n",
    "Superhosts, as expected, have better scores rating (97.4 for superhosts and 93.6 for non superhosts) and higher number of reviews in the dataset. So, it is always a good idea to prefer superhosts for your bookings, especially if its your first time visiting Seattle."
   ]
  },
  {
   "cell_type": "markdown",
   "metadata": {},
   "source": [
    "**Q4. What factors contributed the most towards being a super host?**"
   ]
  },
  {
   "cell_type": "code",
   "execution_count": 117,
   "metadata": {},
   "outputs": [],
   "source": [
    "def one_hot_encode(df):\n",
    "    '''\n",
    "    INPUT\n",
    "    df - A dataframe\n",
    "    \n",
    "    OUTPUT\n",
    "    df - modified dataframe\n",
    "    \n",
    "    This function :\n",
    "    1. drops all categorical columns\n",
    "    2. encodes all categorical columns with one hot encoding i.e. each value in the column is separated out into\n",
    "       a different column, column names separated with '_'\n",
    "       \n",
    "    Reason behind one hot encoding: \n",
    "    Categorical columns do not fit into a linear regression model. One-hot encoding is a great tool for turning some of \n",
    "    these categorical features into multiple binary features; the presence or absence of the individual categorical unit \n",
    "    can then be fit into the linear regression.\n",
    "    \n",
    "    (Credits: https://medium.com/@jjosephmorrison/one-hot-encoding-to-set-up-categorical-features-for-linear-regression-6bac35661bb6)\n",
    "    '''\n",
    "    # return all categorical columns\n",
    "    cat_df = return_dtype(df,'object')\n",
    "    # store the column list\n",
    "    cat_cols = cat_df.columns\n",
    "\n",
    "    # for each categorical column add dummy var, drop original column\n",
    "    for col in cat_cols:\n",
    "        try:\n",
    "\n",
    "            df = pd.concat([df.drop(col, axis=1), pd.get_dummies(df[col], prefix=col, prefix_sep='_', drop_first=True, dummy_na=False)], axis=1)\n",
    "        except:\n",
    "            continue\n",
    "    return df\n",
    "    "
   ]
  },
  {
   "cell_type": "code",
   "execution_count": 118,
   "metadata": {},
   "outputs": [
    {
     "data": {
      "text/plain": [
       "Index(['review_scores_rating', 'host_response_rate', 'host_is_superhost',\n",
       "       'host_identity_verified', 'host_response_time_within a day',\n",
       "       'host_response_time_within a few hours',\n",
       "       'host_response_time_within an hour'],\n",
       "      dtype='object')"
      ]
     },
     "execution_count": 118,
     "metadata": {},
     "output_type": "execute_result"
    }
   ],
   "source": [
    "# Data preparation\n",
    "\n",
    "df_host = df.copy()\n",
    "\n",
    "# select feature columns\n",
    "df_host = df_host[['review_scores_rating','host_response_time',\n",
    "                   'host_response_rate','host_is_superhost','host_identity_verified']]\n",
    "\n",
    "# convert the boolean values of t/f to float 1/0 and transform columns into float\n",
    "for col in ['host_is_superhost','host_identity_verified']:\n",
    "    df_host.loc[:,col] = df_host.loc[:,col].apply(lambda x: 1 if x=='t' else 0);\n",
    "    df_host.loc[:,col] = df_host.loc[:,col].astype(float);\n",
    "\n",
    "# select the categorical and numerical columns\n",
    "#num_df = return_dtype(df_host,'number')\n",
    "\n",
    "df_host = one_hot_encode(df_host)\n",
    "\n",
    "# Cleanup for null values\n",
    "\n",
    "# Dropping rows where the superhost value is null\n",
    "df_host = df_host.dropna(subset=['host_is_superhost'], axis=0)\n",
    "\n",
    "#dropping any columns with all NaN values\n",
    "drop_all_nulls(df_host)\n",
    "#df_host.dropna(axis=1, how=\"all\", inplace=True)\n",
    "    \n",
    "#for cols in num_df.columns:\n",
    "#fill NaN values with the mean of the column\n",
    "df_host.fillna(df.mean(), inplace=True)\n",
    "\n",
    "df_host.columns"
   ]
  },
  {
   "cell_type": "code",
   "execution_count": 119,
   "metadata": {},
   "outputs": [
    {
     "data": {
      "text/html": [
       "<div>\n",
       "<style scoped>\n",
       "    .dataframe tbody tr th:only-of-type {\n",
       "        vertical-align: middle;\n",
       "    }\n",
       "\n",
       "    .dataframe tbody tr th {\n",
       "        vertical-align: top;\n",
       "    }\n",
       "\n",
       "    .dataframe thead th {\n",
       "        text-align: right;\n",
       "    }\n",
       "</style>\n",
       "<table border=\"1\" class=\"dataframe\">\n",
       "  <thead>\n",
       "    <tr style=\"text-align: right;\">\n",
       "      <th></th>\n",
       "      <th>review_scores_rating</th>\n",
       "      <th>host_response_rate</th>\n",
       "      <th>host_is_superhost</th>\n",
       "      <th>host_identity_verified</th>\n",
       "      <th>host_response_time_within a day</th>\n",
       "      <th>host_response_time_within a few hours</th>\n",
       "      <th>host_response_time_within an hour</th>\n",
       "    </tr>\n",
       "  </thead>\n",
       "  <tbody>\n",
       "    <tr>\n",
       "      <th>0</th>\n",
       "      <td>95.00</td>\n",
       "      <td>96.00</td>\n",
       "      <td>0.00</td>\n",
       "      <td>1.00</td>\n",
       "      <td>0</td>\n",
       "      <td>1</td>\n",
       "      <td>0</td>\n",
       "    </tr>\n",
       "    <tr>\n",
       "      <th>1</th>\n",
       "      <td>96.00</td>\n",
       "      <td>98.00</td>\n",
       "      <td>1.00</td>\n",
       "      <td>1.00</td>\n",
       "      <td>0</td>\n",
       "      <td>0</td>\n",
       "      <td>1</td>\n",
       "    </tr>\n",
       "    <tr>\n",
       "      <th>2</th>\n",
       "      <td>97.00</td>\n",
       "      <td>67.00</td>\n",
       "      <td>0.00</td>\n",
       "      <td>1.00</td>\n",
       "      <td>0</td>\n",
       "      <td>1</td>\n",
       "      <td>0</td>\n",
       "    </tr>\n",
       "    <tr>\n",
       "      <th>3</th>\n",
       "      <td>94.54</td>\n",
       "      <td>94.89</td>\n",
       "      <td>0.00</td>\n",
       "      <td>1.00</td>\n",
       "      <td>0</td>\n",
       "      <td>0</td>\n",
       "      <td>0</td>\n",
       "    </tr>\n",
       "    <tr>\n",
       "      <th>4</th>\n",
       "      <td>92.00</td>\n",
       "      <td>100.00</td>\n",
       "      <td>0.00</td>\n",
       "      <td>1.00</td>\n",
       "      <td>0</td>\n",
       "      <td>0</td>\n",
       "      <td>1</td>\n",
       "    </tr>\n",
       "  </tbody>\n",
       "</table>\n",
       "</div>"
      ],
      "text/plain": [
       "   review_scores_rating  host_response_rate  host_is_superhost  \\\n",
       "0                 95.00               96.00               0.00   \n",
       "1                 96.00               98.00               1.00   \n",
       "2                 97.00               67.00               0.00   \n",
       "3                 94.54               94.89               0.00   \n",
       "4                 92.00              100.00               0.00   \n",
       "\n",
       "   host_identity_verified  host_response_time_within a day  \\\n",
       "0                    1.00                                0   \n",
       "1                    1.00                                0   \n",
       "2                    1.00                                0   \n",
       "3                    1.00                                0   \n",
       "4                    1.00                                0   \n",
       "\n",
       "   host_response_time_within a few hours  host_response_time_within an hour  \n",
       "0                                      1                                  0  \n",
       "1                                      0                                  1  \n",
       "2                                      1                                  0  \n",
       "3                                      0                                  0  \n",
       "4                                      0                                  1  "
      ]
     },
     "execution_count": 119,
     "metadata": {},
     "output_type": "execute_result"
    }
   ],
   "source": [
    "df_host.head()"
   ]
  },
  {
   "cell_type": "code",
   "execution_count": 120,
   "metadata": {},
   "outputs": [
    {
     "data": {
      "image/png": "[encoded data removed]",
      "text/plain": [
       "<Figure size 1440x900 with 2 Axes>"
      ]
     },
     "metadata": {},
     "output_type": "display_data"
    }
   ],
   "source": [
    "# The following piece of code has been borrowed from the official seaborn website, example for pairwise correlation\n",
    "# Credits: https://seaborn.pydata.org/examples/many_pairwise_correlations.html\n",
    "\n",
    "sns.set(style=\"white\",font_scale=1.5)\n",
    "\n",
    "# Generate a large random dataset\n",
    "rs = np.random.RandomState(33)\n",
    "d = pd.DataFrame(data=rs.normal(size=(100, df_host.shape[1])),\n",
    "                 columns=list(df_host.columns))\n",
    "\n",
    "# Compute the correlation matrix\n",
    "corr = d.corr()\n",
    "\n",
    "# Generate a mask for the upper triangle\n",
    "mask = np.zeros_like(corr, dtype=np.bool)\n",
    "mask[np.triu_indices_from(mask)] = True\n",
    "\n",
    "# Set up the matplotlib figure\n",
    "f, ax = plt.subplots(figsize=(20, 12.5))\n",
    "\n",
    "# Generate a custom diverging colormap\n",
    "cmap = sns.diverging_palette(1000,8, as_cmap=True)\n",
    "\n",
    "# Draw the heatmap with the mask and correct aspect ratio\n",
    "sns.heatmap(corr, mask=mask, cmap=cmap, vmax=.3, center=0,\n",
    "            square=True, linewidths=.8, cbar_kws={\"shrink\": 0.8});\n",
    "\n",
    "# Visual changes for the map\n",
    "plt.xticks(rotation=0)\n",
    "\n",
    "# set x and y text labels\n",
    "plt.suptitle(\"Correlation matrix for super hosts\", fontsize=20)\n",
    "\n",
    "plt.show()"
   ]
  },
  {
   "cell_type": "code",
   "execution_count": 121,
   "metadata": {},
   "outputs": [
    {
     "data": {
      "text/html": [
       "<style  type=\"text/css\" >\n",
       "    #T_673a49e2_a799_11ea_bb8e_3cf8626e9d9drow0_col0 {\n",
       "            background-color:  #023858;\n",
       "            color:  #f1f1f1;\n",
       "        }    #T_673a49e2_a799_11ea_bb8e_3cf8626e9d9drow0_col1 {\n",
       "            background-color:  #afc1dd;\n",
       "            color:  #000000;\n",
       "        }    #T_673a49e2_a799_11ea_bb8e_3cf8626e9d9drow0_col2 {\n",
       "            background-color:  #bcc7e1;\n",
       "            color:  #000000;\n",
       "        }    #T_673a49e2_a799_11ea_bb8e_3cf8626e9d9drow0_col3 {\n",
       "            background-color:  #f1ebf4;\n",
       "            color:  #000000;\n",
       "        }    #T_673a49e2_a799_11ea_bb8e_3cf8626e9d9drow0_col4 {\n",
       "            background-color:  #cacee5;\n",
       "            color:  #000000;\n",
       "        }    #T_673a49e2_a799_11ea_bb8e_3cf8626e9d9drow0_col5 {\n",
       "            background-color:  #bfc9e1;\n",
       "            color:  #000000;\n",
       "        }    #T_673a49e2_a799_11ea_bb8e_3cf8626e9d9drow0_col6 {\n",
       "            background-color:  #9ebad9;\n",
       "            color:  #000000;\n",
       "        }    #T_673a49e2_a799_11ea_bb8e_3cf8626e9d9drow1_col0 {\n",
       "            background-color:  #e0dded;\n",
       "            color:  #000000;\n",
       "        }    #T_673a49e2_a799_11ea_bb8e_3cf8626e9d9drow1_col1 {\n",
       "            background-color:  #023858;\n",
       "            color:  #f1f1f1;\n",
       "        }    #T_673a49e2_a799_11ea_bb8e_3cf8626e9d9drow1_col2 {\n",
       "            background-color:  #d3d4e7;\n",
       "            color:  #000000;\n",
       "        }    #T_673a49e2_a799_11ea_bb8e_3cf8626e9d9drow1_col3 {\n",
       "            background-color:  #f0eaf4;\n",
       "            color:  #000000;\n",
       "        }    #T_673a49e2_a799_11ea_bb8e_3cf8626e9d9drow1_col4 {\n",
       "            background-color:  #faf3f9;\n",
       "            color:  #000000;\n",
       "        }    #T_673a49e2_a799_11ea_bb8e_3cf8626e9d9drow1_col5 {\n",
       "            background-color:  #a5bddb;\n",
       "            color:  #000000;\n",
       "        }    #T_673a49e2_a799_11ea_bb8e_3cf8626e9d9drow1_col6 {\n",
       "            background-color:  #5ea0ca;\n",
       "            color:  #000000;\n",
       "        }    #T_673a49e2_a799_11ea_bb8e_3cf8626e9d9drow2_col0 {\n",
       "            background-color:  #c8cde4;\n",
       "            color:  #000000;\n",
       "        }    #T_673a49e2_a799_11ea_bb8e_3cf8626e9d9drow2_col1 {\n",
       "            background-color:  #abbfdc;\n",
       "            color:  #000000;\n",
       "        }    #T_673a49e2_a799_11ea_bb8e_3cf8626e9d9drow2_col2 {\n",
       "            background-color:  #023858;\n",
       "            color:  #f1f1f1;\n",
       "        }    #T_673a49e2_a799_11ea_bb8e_3cf8626e9d9drow2_col3 {\n",
       "            background-color:  #e2dfee;\n",
       "            color:  #000000;\n",
       "        }    #T_673a49e2_a799_11ea_bb8e_3cf8626e9d9drow2_col4 {\n",
       "            background-color:  #dddbec;\n",
       "            color:  #000000;\n",
       "        }    #T_673a49e2_a799_11ea_bb8e_3cf8626e9d9drow2_col5 {\n",
       "            background-color:  #b1c2de;\n",
       "            color:  #000000;\n",
       "        }    #T_673a49e2_a799_11ea_bb8e_3cf8626e9d9drow2_col6 {\n",
       "            background-color:  #81aed2;\n",
       "            color:  #000000;\n",
       "        }    #T_673a49e2_a799_11ea_bb8e_3cf8626e9d9drow3_col0 {\n",
       "            background-color:  #ece7f2;\n",
       "            color:  #000000;\n",
       "        }    #T_673a49e2_a799_11ea_bb8e_3cf8626e9d9drow3_col1 {\n",
       "            background-color:  #bcc7e1;\n",
       "            color:  #000000;\n",
       "        }    #T_673a49e2_a799_11ea_bb8e_3cf8626e9d9drow3_col2 {\n",
       "            background-color:  #d3d4e7;\n",
       "            color:  #000000;\n",
       "        }    #T_673a49e2_a799_11ea_bb8e_3cf8626e9d9drow3_col3 {\n",
       "            background-color:  #023858;\n",
       "            color:  #f1f1f1;\n",
       "        }    #T_673a49e2_a799_11ea_bb8e_3cf8626e9d9drow3_col4 {\n",
       "            background-color:  #ced0e6;\n",
       "            color:  #000000;\n",
       "        }    #T_673a49e2_a799_11ea_bb8e_3cf8626e9d9drow3_col5 {\n",
       "            background-color:  #afc1dd;\n",
       "            color:  #000000;\n",
       "        }    #T_673a49e2_a799_11ea_bb8e_3cf8626e9d9drow3_col6 {\n",
       "            background-color:  #93b5d6;\n",
       "            color:  #000000;\n",
       "        }    #T_673a49e2_a799_11ea_bb8e_3cf8626e9d9drow4_col0 {\n",
       "            background-color:  #f9f2f8;\n",
       "            color:  #000000;\n",
       "        }    #T_673a49e2_a799_11ea_bb8e_3cf8626e9d9drow4_col1 {\n",
       "            background-color:  #fff7fb;\n",
       "            color:  #000000;\n",
       "        }    #T_673a49e2_a799_11ea_bb8e_3cf8626e9d9drow4_col2 {\n",
       "            background-color:  #fff7fb;\n",
       "            color:  #000000;\n",
       "        }    #T_673a49e2_a799_11ea_bb8e_3cf8626e9d9drow4_col3 {\n",
       "            background-color:  #fff7fb;\n",
       "            color:  #000000;\n",
       "        }    #T_673a49e2_a799_11ea_bb8e_3cf8626e9d9drow4_col4 {\n",
       "            background-color:  #023858;\n",
       "            color:  #f1f1f1;\n",
       "        }    #T_673a49e2_a799_11ea_bb8e_3cf8626e9d9drow4_col5 {\n",
       "            background-color:  #e0deed;\n",
       "            color:  #000000;\n",
       "        }    #T_673a49e2_a799_11ea_bb8e_3cf8626e9d9drow4_col6 {\n",
       "            background-color:  #f2ecf5;\n",
       "            color:  #000000;\n",
       "        }    #T_673a49e2_a799_11ea_bb8e_3cf8626e9d9drow5_col0 {\n",
       "            background-color:  #fff7fb;\n",
       "            color:  #000000;\n",
       "        }    #T_673a49e2_a799_11ea_bb8e_3cf8626e9d9drow5_col1 {\n",
       "            background-color:  #c2cbe2;\n",
       "            color:  #000000;\n",
       "        }    #T_673a49e2_a799_11ea_bb8e_3cf8626e9d9drow5_col2 {\n",
       "            background-color:  #f0eaf4;\n",
       "            color:  #000000;\n",
       "        }    #T_673a49e2_a799_11ea_bb8e_3cf8626e9d9drow5_col3 {\n",
       "            background-color:  #faf2f8;\n",
       "            color:  #000000;\n",
       "        }    #T_673a49e2_a799_11ea_bb8e_3cf8626e9d9drow5_col4 {\n",
       "            background-color:  #f1ebf4;\n",
       "            color:  #000000;\n",
       "        }    #T_673a49e2_a799_11ea_bb8e_3cf8626e9d9drow5_col5 {\n",
       "            background-color:  #023858;\n",
       "            color:  #f1f1f1;\n",
       "        }    #T_673a49e2_a799_11ea_bb8e_3cf8626e9d9drow5_col6 {\n",
       "            background-color:  #fff7fb;\n",
       "            color:  #000000;\n",
       "        }    #T_673a49e2_a799_11ea_bb8e_3cf8626e9d9drow6_col0 {\n",
       "            background-color:  #eae6f1;\n",
       "            color:  #000000;\n",
       "        }    #T_673a49e2_a799_11ea_bb8e_3cf8626e9d9drow6_col1 {\n",
       "            background-color:  #7bacd1;\n",
       "            color:  #000000;\n",
       "        }    #T_673a49e2_a799_11ea_bb8e_3cf8626e9d9drow6_col2 {\n",
       "            background-color:  #c9cee4;\n",
       "            color:  #000000;\n",
       "        }    #T_673a49e2_a799_11ea_bb8e_3cf8626e9d9drow6_col3 {\n",
       "            background-color:  #e7e3f0;\n",
       "            color:  #000000;\n",
       "        }    #T_673a49e2_a799_11ea_bb8e_3cf8626e9d9drow6_col4 {\n",
       "            background-color:  #fff7fb;\n",
       "            color:  #000000;\n",
       "        }    #T_673a49e2_a799_11ea_bb8e_3cf8626e9d9drow6_col5 {\n",
       "            background-color:  #fff7fb;\n",
       "            color:  #000000;\n",
       "        }    #T_673a49e2_a799_11ea_bb8e_3cf8626e9d9drow6_col6 {\n",
       "            background-color:  #023858;\n",
       "            color:  #f1f1f1;\n",
       "        }</style><table id=\"T_673a49e2_a799_11ea_bb8e_3cf8626e9d9d\" ><thead>    <tr>        <th class=\"blank level0\" ></th>        <th class=\"col_heading level0 col0\" >review_scores_rating</th>        <th class=\"col_heading level0 col1\" >host_response_rate</th>        <th class=\"col_heading level0 col2\" >host_is_superhost</th>        <th class=\"col_heading level0 col3\" >host_identity_verified</th>        <th class=\"col_heading level0 col4\" >host_response_time_within a day</th>        <th class=\"col_heading level0 col5\" >host_response_time_within a few hours</th>        <th class=\"col_heading level0 col6\" >host_response_time_within an hour</th>    </tr></thead><tbody>\n",
       "                <tr>\n",
       "                        <th id=\"T_673a49e2_a799_11ea_bb8e_3cf8626e9d9dlevel0_row0\" class=\"row_heading level0 row0\" >review_scores_rating</th>\n",
       "                        <td id=\"T_673a49e2_a799_11ea_bb8e_3cf8626e9d9drow0_col0\" class=\"data row0 col0\" >1</td>\n",
       "                        <td id=\"T_673a49e2_a799_11ea_bb8e_3cf8626e9d9drow0_col1\" class=\"data row0 col1\" >0.130052</td>\n",
       "                        <td id=\"T_673a49e2_a799_11ea_bb8e_3cf8626e9d9drow0_col2\" class=\"data row0 col2\" >0.231712</td>\n",
       "                        <td id=\"T_673a49e2_a799_11ea_bb8e_3cf8626e9d9drow0_col3\" class=\"data row0 col3\" >0.0721148</td>\n",
       "                        <td id=\"T_673a49e2_a799_11ea_bb8e_3cf8626e9d9drow0_col4\" class=\"data row0 col4\" >-0.0155181</td>\n",
       "                        <td id=\"T_673a49e2_a799_11ea_bb8e_3cf8626e9d9drow0_col5\" class=\"data row0 col5\" >-0.060848</td>\n",
       "                        <td id=\"T_673a49e2_a799_11ea_bb8e_3cf8626e9d9drow0_col6\" class=\"data row0 col6\" >0.0805652</td>\n",
       "            </tr>\n",
       "            <tr>\n",
       "                        <th id=\"T_673a49e2_a799_11ea_bb8e_3cf8626e9d9dlevel0_row1\" class=\"row_heading level0 row1\" >host_response_rate</th>\n",
       "                        <td id=\"T_673a49e2_a799_11ea_bb8e_3cf8626e9d9drow1_col0\" class=\"data row1 col0\" >0.130052</td>\n",
       "                        <td id=\"T_673a49e2_a799_11ea_bb8e_3cf8626e9d9drow1_col1\" class=\"data row1 col1\" >1</td>\n",
       "                        <td id=\"T_673a49e2_a799_11ea_bb8e_3cf8626e9d9drow1_col2\" class=\"data row1 col2\" >0.148387</td>\n",
       "                        <td id=\"T_673a49e2_a799_11ea_bb8e_3cf8626e9d9drow1_col3\" class=\"data row1 col3\" >0.0802735</td>\n",
       "                        <td id=\"T_673a49e2_a799_11ea_bb8e_3cf8626e9d9drow1_col4\" class=\"data row1 col4\" >-0.337424</td>\n",
       "                        <td id=\"T_673a49e2_a799_11ea_bb8e_3cf8626e9d9drow1_col5\" class=\"data row1 col5\" >0.0535064</td>\n",
       "                        <td id=\"T_673a49e2_a799_11ea_bb8e_3cf8626e9d9drow1_col6\" class=\"data row1 col6\" >0.309087</td>\n",
       "            </tr>\n",
       "            <tr>\n",
       "                        <th id=\"T_673a49e2_a799_11ea_bb8e_3cf8626e9d9dlevel0_row2\" class=\"row_heading level0 row2\" >host_is_superhost</th>\n",
       "                        <td id=\"T_673a49e2_a799_11ea_bb8e_3cf8626e9d9drow2_col0\" class=\"data row2 col0\" >0.231712</td>\n",
       "                        <td id=\"T_673a49e2_a799_11ea_bb8e_3cf8626e9d9drow2_col1\" class=\"data row2 col1\" >0.148387</td>\n",
       "                        <td id=\"T_673a49e2_a799_11ea_bb8e_3cf8626e9d9drow2_col2\" class=\"data row2 col2\" >1</td>\n",
       "                        <td id=\"T_673a49e2_a799_11ea_bb8e_3cf8626e9d9drow2_col3\" class=\"data row2 col3\" >0.146076</td>\n",
       "                        <td id=\"T_673a49e2_a799_11ea_bb8e_3cf8626e9d9drow2_col4\" class=\"data row2 col4\" >-0.115746</td>\n",
       "                        <td id=\"T_673a49e2_a799_11ea_bb8e_3cf8626e9d9drow2_col5\" class=\"data row2 col5\" >0.00111964</td>\n",
       "                        <td id=\"T_673a49e2_a799_11ea_bb8e_3cf8626e9d9drow2_col6\" class=\"data row2 col6\" >0.188777</td>\n",
       "            </tr>\n",
       "            <tr>\n",
       "                        <th id=\"T_673a49e2_a799_11ea_bb8e_3cf8626e9d9dlevel0_row3\" class=\"row_heading level0 row3\" >host_identity_verified</th>\n",
       "                        <td id=\"T_673a49e2_a799_11ea_bb8e_3cf8626e9d9drow3_col0\" class=\"data row3 col0\" >0.0721148</td>\n",
       "                        <td id=\"T_673a49e2_a799_11ea_bb8e_3cf8626e9d9drow3_col1\" class=\"data row3 col1\" >0.0802735</td>\n",
       "                        <td id=\"T_673a49e2_a799_11ea_bb8e_3cf8626e9d9drow3_col2\" class=\"data row3 col2\" >0.146076</td>\n",
       "                        <td id=\"T_673a49e2_a799_11ea_bb8e_3cf8626e9d9drow3_col3\" class=\"data row3 col3\" >1</td>\n",
       "                        <td id=\"T_673a49e2_a799_11ea_bb8e_3cf8626e9d9drow3_col4\" class=\"data row3 col4\" >-0.0274252</td>\n",
       "                        <td id=\"T_673a49e2_a799_11ea_bb8e_3cf8626e9d9drow3_col5\" class=\"data row3 col5\" >0.0119475</td>\n",
       "                        <td id=\"T_673a49e2_a799_11ea_bb8e_3cf8626e9d9drow3_col6\" class=\"data row3 col6\" >0.121708</td>\n",
       "            </tr>\n",
       "            <tr>\n",
       "                        <th id=\"T_673a49e2_a799_11ea_bb8e_3cf8626e9d9dlevel0_row4\" class=\"row_heading level0 row4\" >host_response_time_within a day</th>\n",
       "                        <td id=\"T_673a49e2_a799_11ea_bb8e_3cf8626e9d9drow4_col0\" class=\"data row4 col0\" >-0.0155181</td>\n",
       "                        <td id=\"T_673a49e2_a799_11ea_bb8e_3cf8626e9d9drow4_col1\" class=\"data row4 col1\" >-0.337424</td>\n",
       "                        <td id=\"T_673a49e2_a799_11ea_bb8e_3cf8626e9d9drow4_col2\" class=\"data row4 col2\" >-0.115746</td>\n",
       "                        <td id=\"T_673a49e2_a799_11ea_bb8e_3cf8626e9d9drow4_col3\" class=\"data row4 col3\" >-0.0274252</td>\n",
       "                        <td id=\"T_673a49e2_a799_11ea_bb8e_3cf8626e9d9drow4_col4\" class=\"data row4 col4\" >1</td>\n",
       "                        <td id=\"T_673a49e2_a799_11ea_bb8e_3cf8626e9d9drow4_col5\" class=\"data row4 col5\" >-0.250904</td>\n",
       "                        <td id=\"T_673a49e2_a799_11ea_bb8e_3cf8626e9d9drow4_col6\" class=\"data row4 col6\" >-0.38407</td>\n",
       "            </tr>\n",
       "            <tr>\n",
       "                        <th id=\"T_673a49e2_a799_11ea_bb8e_3cf8626e9d9dlevel0_row5\" class=\"row_heading level0 row5\" >host_response_time_within a few hours</th>\n",
       "                        <td id=\"T_673a49e2_a799_11ea_bb8e_3cf8626e9d9drow5_col0\" class=\"data row5 col0\" >-0.060848</td>\n",
       "                        <td id=\"T_673a49e2_a799_11ea_bb8e_3cf8626e9d9drow5_col1\" class=\"data row5 col1\" >0.0535064</td>\n",
       "                        <td id=\"T_673a49e2_a799_11ea_bb8e_3cf8626e9d9drow5_col2\" class=\"data row5 col2\" >0.00111964</td>\n",
       "                        <td id=\"T_673a49e2_a799_11ea_bb8e_3cf8626e9d9drow5_col3\" class=\"data row5 col3\" >0.0119475</td>\n",
       "                        <td id=\"T_673a49e2_a799_11ea_bb8e_3cf8626e9d9drow5_col4\" class=\"data row5 col4\" >-0.250904</td>\n",
       "                        <td id=\"T_673a49e2_a799_11ea_bb8e_3cf8626e9d9drow5_col5\" class=\"data row5 col5\" >1</td>\n",
       "                        <td id=\"T_673a49e2_a799_11ea_bb8e_3cf8626e9d9drow5_col6\" class=\"data row5 col6\" >-0.519917</td>\n",
       "            </tr>\n",
       "            <tr>\n",
       "                        <th id=\"T_673a49e2_a799_11ea_bb8e_3cf8626e9d9dlevel0_row6\" class=\"row_heading level0 row6\" >host_response_time_within an hour</th>\n",
       "                        <td id=\"T_673a49e2_a799_11ea_bb8e_3cf8626e9d9drow6_col0\" class=\"data row6 col0\" >0.0805652</td>\n",
       "                        <td id=\"T_673a49e2_a799_11ea_bb8e_3cf8626e9d9drow6_col1\" class=\"data row6 col1\" >0.309087</td>\n",
       "                        <td id=\"T_673a49e2_a799_11ea_bb8e_3cf8626e9d9drow6_col2\" class=\"data row6 col2\" >0.188777</td>\n",
       "                        <td id=\"T_673a49e2_a799_11ea_bb8e_3cf8626e9d9drow6_col3\" class=\"data row6 col3\" >0.121708</td>\n",
       "                        <td id=\"T_673a49e2_a799_11ea_bb8e_3cf8626e9d9drow6_col4\" class=\"data row6 col4\" >-0.38407</td>\n",
       "                        <td id=\"T_673a49e2_a799_11ea_bb8e_3cf8626e9d9drow6_col5\" class=\"data row6 col5\" >-0.519917</td>\n",
       "                        <td id=\"T_673a49e2_a799_11ea_bb8e_3cf8626e9d9drow6_col6\" class=\"data row6 col6\" >1</td>\n",
       "            </tr>\n",
       "    </tbody></table>"
      ],
      "text/plain": [
       "<pandas.io.formats.style.Styler at 0x29e61d40cc0>"
      ]
     },
     "execution_count": 121,
     "metadata": {},
     "output_type": "execute_result"
    }
   ],
   "source": [
    "# visualization with the correlation score explicitly stated\n",
    "\n",
    "import numpy as np\n",
    "rs = np.random.RandomState(0)\n",
    "\n",
    "corr = df_host.corr()\n",
    "corr.style.background_gradient(cmap='PuBu')"
   ]
  },
  {
   "cell_type": "markdown",
   "metadata": {},
   "source": [
    "**Conclusion**\n",
    "\n",
    "As is visible from the correlation matrix above (the third row for the field \"host_is_superhost\"), two of the biggest factors influencing the superhost status are the \"review_scores_rating\" and the \"host_reponse_rate\""
   ]
  },
  {
   "cell_type": "markdown",
   "metadata": {},
   "source": [
    "** Q5. What factors in an AirBnb listing contributed to its price?**\n",
    "\n",
    "We will be building a linear regression model to help predict prices in the Seattle area. Based on our analysis, we can then narrow down the factors which mostly drive the prices in the area."
   ]
  },
  {
   "cell_type": "code",
   "execution_count": 122,
   "metadata": {},
   "outputs": [
    {
     "data": {
      "text/plain": [
       "Index(['price', 'accommodates', 'bedrooms', 'beds', 'square_feet', 'bathrooms',\n",
       "       'guests_included', 'no_of_amenities', 'host_listings_count',\n",
       "       'host_total_listings_count', 'review_scores_location',\n",
       "       'review_scores_rating', 'review_scores_cleanliness',\n",
       "       'review_scores_accuracy', 'minimum_nights',\n",
       "       'review_scores_communication', 'review_scores_checkin',\n",
       "       'host_acceptance_rate', 'maximum_nights', 'latitude',\n",
       "       'host_response_rate', 'availability_365', 'availability_30',\n",
       "       'review_scores_value', 'id'],\n",
       "      dtype='object')"
      ]
     },
     "execution_count": 122,
     "metadata": {},
     "output_type": "execute_result"
    }
   ],
   "source": [
    "# Data preparation\n",
    "\n",
    "df_predprice = df.copy()\n",
    "\n",
    "# we create a new column to take a count of number of amenities a listing has to offer\n",
    "df_predprice['no_of_amenities'] = df_predprice['amenities'].apply(lambda x: len(x.split(\",\")))\n",
    "\n",
    "# We use pearson's coefficent in a correlation matrix to \n",
    "# select the top 15 variables that has a relationship with the target variable i.e. price\n",
    "\n",
    "# create a correlation object\n",
    "correlation = df_predprice.corr(method='pearson')\n",
    "\n",
    "# select the top 25 columns with a high correlation with \"price\"\n",
    "columns = correlation.nlargest(25, 'price').index\n",
    "\n",
    "columns"
   ]
  },
  {
   "cell_type": "code",
   "execution_count": 123,
   "metadata": {},
   "outputs": [],
   "source": [
    "# select feature columns which would be useful to predict the prices\n",
    "df_predprice = df_predprice[['no_of_amenities','accommodates','guests_included','square_feet','zipcode',\n",
    "                             'review_scores_location','property_type','room_type',\n",
    "                             'bathrooms', 'bedrooms', 'beds', 'price']]\n"
   ]
  },
  {
   "cell_type": "code",
   "execution_count": 124,
   "metadata": {},
   "outputs": [
    {
     "name": "stdout",
     "output_type": "stream",
     "text": [
      "The dataframe has  3818  rows and  12  columns \n",
      "\n",
      "There are  3  categorical columns and  9 numerical columns in the dataframe \n",
      "\n",
      "A list of all the categorical columns \n",
      "\n",
      "['zipcode', 'property_type', 'room_type'] \n",
      "\n",
      "A list of all the numerical columns \n",
      "\n",
      "['no_of_amenities', 'accommodates', 'guests_included', 'square_feet', 'review_scores_location', 'bathrooms', 'bedrooms', 'beds', 'price'] \n",
      "\n",
      "Statistical details for the numerical columns \n",
      "        no_of_amenities  accommodates  guests_included  square_feet  \\\n",
      "count          3818.00       3818.00          3818.00        97.00   \n",
      "mean             14.37          3.35             1.67       854.62   \n",
      "std               4.71          1.98             1.31       671.40   \n",
      "min               1.00          1.00             0.00         0.00   \n",
      "25%              11.00          2.00             1.00       420.00   \n",
      "50%              14.00          3.00             1.00       750.00   \n",
      "75%              17.00          4.00             2.00      1200.00   \n",
      "max              30.00         16.00            15.00      3000.00   \n",
      "\n",
      "       review_scores_location  bathrooms  bedrooms    beds   price  \n",
      "count                 3163.00    3802.00   3812.00 3817.00 3818.00  \n",
      "mean                     9.61       1.26      1.31    1.74  127.98  \n",
      "std                      0.63       0.59      0.88    1.14   90.25  \n",
      "min                      4.00       0.00      0.00    1.00   20.00  \n",
      "25%                      9.00       1.00      1.00    1.00   75.00  \n",
      "50%                     10.00       1.00      1.00    1.00  100.00  \n",
      "75%                     10.00       1.00      2.00    2.00  150.00  \n",
      "max                     10.00       8.00      7.00   15.00 1000.00  \n"
     ]
    }
   ],
   "source": [
    "explore_df(df_predprice)"
   ]
  },
  {
   "cell_type": "code",
   "execution_count": 125,
   "metadata": {},
   "outputs": [
    {
     "name": "stdout",
     "output_type": "stream",
     "text": [
      "The column(s) with all null values:  set() \n",
      "\n",
      " More than  25 % of values are null for columns  {'square_feet'} \n",
      "\n",
      " More than  50 % of values are null for columns  {'square_feet'} \n",
      "\n",
      " More than  75 % of values are null for columns  {'square_feet'} \n",
      "\n"
     ]
    }
   ],
   "source": [
    "explore_null(df_predprice)"
   ]
  },
  {
   "cell_type": "markdown",
   "metadata": {},
   "source": [
    "Considering that more than 75% of values for square_feet are null values, it would be better to drop off the column from our analysis.The reason we drop off the column instead of imputing values for it is because imputing values for square_feet would mislead our prediction of prices. "
   ]
  },
  {
   "cell_type": "code",
   "execution_count": 126,
   "metadata": {},
   "outputs": [
    {
     "name": "stdout",
     "output_type": "stream",
     "text": [
      "The column(s) with all null values:  set() \n",
      "\n",
      " More than  25 % of values are null for columns  set() \n",
      "\n",
      " More than  50 % of values are null for columns  set() \n",
      "\n",
      " More than  75 % of values are null for columns  set() \n",
      "\n"
     ]
    }
   ],
   "source": [
    "# drop the square_feet column\n",
    "df_predprice.drop(['square_feet'],axis=1,inplace=True)\n",
    "\n",
    "# drop columns and rows, if any, with all nulls\n",
    "drop_all_nulls(df_predprice)\n",
    "\n",
    "# Dropping rows where the price is null\n",
    "df_predprice = df_predprice.dropna(subset=['price'], axis=0)\n",
    "\n",
    "#explore the null values again\n",
    "explore_null(df_predprice)"
   ]
  },
  {
   "cell_type": "markdown",
   "metadata": {},
   "source": [
    "As we can observe, none of the columns now have all nulls or more than 25% of null values in them, which is a great step to go ahead to our modelling analysis\n",
    "\n",
    "Next step: One hot encoding for categorical variables\n",
    "\n",
    "Reason behind one hot encoding: \n",
    "    Categorical columns do not fit into a linear regression model. One-hot encoding is a great tool for turning some of \n",
    "    these categorical features into multiple binary features; the presence or absence of the individual categorical unit \n",
    "    can then be fit into the linear regression.\n",
    "    \n",
    "    (Credits: https://medium.com/@jjosephmorrison/one-hot-encoding-to-set-up-categorical-features-for-linear-regression-6bac35661bb6)"
   ]
  },
  {
   "cell_type": "code",
   "execution_count": 127,
   "metadata": {},
   "outputs": [
    {
     "data": {
      "text/plain": [
       "Index(['no_of_amenities', 'accommodates', 'guests_included',\n",
       "       'review_scores_location', 'bathrooms', 'bedrooms', 'beds', 'price',\n",
       "       'zipcode_98102', 'zipcode_98103', 'zipcode_98104', 'zipcode_98105',\n",
       "       'zipcode_98106', 'zipcode_98107', 'zipcode_98108', 'zipcode_98109',\n",
       "       'zipcode_98112', 'zipcode_98115', 'zipcode_98116', 'zipcode_98117',\n",
       "       'zipcode_98118', 'zipcode_98119', 'zipcode_98121', 'zipcode_98122',\n",
       "       'zipcode_98125', 'zipcode_98126', 'zipcode_98133', 'zipcode_98134',\n",
       "       'zipcode_98136', 'zipcode_98144', 'zipcode_98146', 'zipcode_98177',\n",
       "       'zipcode_98178', 'zipcode_98199', 'zipcode_99\\n98122',\n",
       "       'property_type_Bed & Breakfast', 'property_type_Boat',\n",
       "       'property_type_Bungalow', 'property_type_Cabin',\n",
       "       'property_type_Camper/RV', 'property_type_Chalet',\n",
       "       'property_type_Condominium', 'property_type_Dorm',\n",
       "       'property_type_House', 'property_type_Loft', 'property_type_Other',\n",
       "       'property_type_Tent', 'property_type_Townhouse',\n",
       "       'property_type_Treehouse', 'property_type_Yurt',\n",
       "       'room_type_Private room', 'room_type_Shared room'],\n",
       "      dtype='object')"
      ]
     },
     "execution_count": 127,
     "metadata": {},
     "output_type": "execute_result"
    }
   ],
   "source": [
    "# One hot encoding\n",
    "df_predprice = one_hot_encode(df_predprice)\n",
    "\n",
    "# a peek at the newly created columns\n",
    "df_predprice.columns"
   ]
  },
  {
   "cell_type": "code",
   "execution_count": 128,
   "metadata": {},
   "outputs": [],
   "source": [
    "# With the newly created categorical columns, its important to remove null values for columns\n",
    "# in order to avoid any errors in our modeling process\n",
    "\n",
    "# we fill NaN values with the mean of the column\n",
    "df_predprice.fillna(df.mean(), inplace=True)"
   ]
  },
  {
   "cell_type": "markdown",
   "metadata": {},
   "source": [
    "**CRISP DM Step 4. Modeling **"
   ]
  },
  {
   "cell_type": "code",
   "execution_count": 129,
   "metadata": {},
   "outputs": [],
   "source": [
    "# Select columns\n",
    "y = df_predprice['price']\n",
    "X = df_predprice.drop('price',axis=1)\n",
    "\n",
    "# train_test_split\n",
    "X_train, X_test, y_train, y_test = train_test_split(X, y, test_size = .30, random_state=42)\n",
    "\n",
    "#Four steps:\n",
    "\n",
    "#Instantiate\n",
    "lm_model = LinearRegression(normalize=True)"
   ]
  },
  {
   "cell_type": "code",
   "execution_count": 130,
   "metadata": {},
   "outputs": [
    {
     "name": "stdout",
     "output_type": "stream",
     "text": [
      "train score : 0.57\n",
      "test score : 0.59\n"
     ]
    }
   ],
   "source": [
    "#Fit the model\n",
    "lm_model.fit(X_train, y_train) \n",
    "\n",
    "#Predict\n",
    "y_test_preds = lm_model.predict(X_test)\n",
    "y_train_preds = lm_model.predict(X_train)\n",
    "\n",
    "#Score\n",
    "train_score = r2_score(y_train, y_train_preds)\n",
    "test_score = r2_score(y_test, y_test_preds)\n",
    "\n",
    "print(\"train score : %.2f\"%train_score)\n",
    "print(\"test score : %.2f\"%test_score)"
   ]
  },
  {
   "cell_type": "markdown",
   "metadata": {},
   "source": [
    "** Lets try implementing Lasso(L1) and Ridge(L2) Regression to see if we can improve upon this test score **"
   ]
  },
  {
   "cell_type": "markdown",
   "metadata": {},
   "source": [
    "** i) L1 (Lasso) Regression **"
   ]
  },
  {
   "cell_type": "code",
   "execution_count": 131,
   "metadata": {},
   "outputs": [
    {
     "name": "stdout",
     "output_type": "stream",
     "text": [
      "0.25 : 50.673777595522765\n",
      "0.5 : 49.912356521713214\n",
      "0.75 : 49.361869610054924\n",
      "1.0 : 48.9490546380787\n",
      "1.25 : 48.42139246487677\n",
      "1.5 : 47.679882228376535\n",
      "1.75 : 47.213592221706136\n",
      "2.0 : 47.2319704778027\n"
     ]
    }
   ],
   "source": [
    "# List to maintain the cross-validation scores \n",
    "cross_val_scores_lasso = [] \n",
    "  \n",
    "# List to maintain the different values of Lambda \n",
    "Lambda = [] \n",
    "  \n",
    "# Loop to compute the cross-validation scores \n",
    "for i in range(1, 9): \n",
    "    lassoModel = Lasso(alpha = i * 0.25, tol = 0.0925) \n",
    "    lassoModel.fit(X_train, y_train) \n",
    "    scores = cross_val_score(lassoModel, X, y, cv = 10) \n",
    "    avg_cross_val_score = mean(scores)*100\n",
    "    cross_val_scores_lasso.append(avg_cross_val_score) \n",
    "    Lambda.append(i * 0.25) \n",
    "  \n",
    "# Loop to print the different values of cross-validation scores \n",
    "for i in range(0, len(Lambda)): \n",
    "    print(str(Lambda[i])+' : '+str(cross_val_scores_lasso[i])) "
   ]
  },
  {
   "cell_type": "markdown",
   "metadata": {},
   "source": [
    "The value 0.25 for lambda yields the best results for us."
   ]
  },
  {
   "cell_type": "code",
   "execution_count": 132,
   "metadata": {},
   "outputs": [
    {
     "name": "stdout",
     "output_type": "stream",
     "text": [
      "train score : 0.46\n",
      "test score : 0.49\n"
     ]
    }
   ],
   "source": [
    "lassoModel = Lasso(alpha = 0.25, normalize=True) \n",
    "lassoModel.fit(X_train, y_train) \n",
    "\n",
    "#Predict\n",
    "y_test_preds = lassoModel.predict(X_test)\n",
    "y_train_preds = lassoModel.predict(X_train)\n",
    "\n",
    "#Score\n",
    "train_score = r2_score(y_train, y_train_preds)\n",
    "test_score = r2_score(y_test, y_test_preds)\n",
    "\n",
    "print(\"train score : %.2f\"%train_score)\n",
    "print(\"test score : %.2f\"%test_score)"
   ]
  },
  {
   "cell_type": "markdown",
   "metadata": {},
   "source": [
    "Credits: https://www.analyticsvidhya.com/blog/2017/06/a-comprehensive-guide-for-linear-ridge-and-lasso-regression/\n",
    "\n",
    "L1 regression is generally used when we have more number of features, because it automatically does feature selection."
   ]
  },
  {
   "cell_type": "markdown",
   "metadata": {},
   "source": [
    "** ii) L2 (Ridge) Regression **"
   ]
  },
  {
   "cell_type": "code",
   "execution_count": 133,
   "metadata": {},
   "outputs": [
    {
     "name": "stdout",
     "output_type": "stream",
     "text": [
      "0.25 : 49.423738651145555\n",
      "0.5 : 49.831600078784824\n",
      "0.75 : 50.17528554695576\n",
      "1.0 : 50.467668064274854\n",
      "1.25 : 50.71813759139566\n",
      "1.5 : 50.93390454962782\n",
      "1.75 : 51.12065758445949\n",
      "2.0 : 51.2829611491186\n"
     ]
    }
   ],
   "source": [
    "# List to maintain the different cross-validation scores \n",
    "cross_val_scores_ridge = [] \n",
    "  \n",
    "# List to maintain the different values of alpha \n",
    "alpha = [] \n",
    "  \n",
    "# Loop to compute the different values of cross-validation scores \n",
    "for i in range(1, 9): \n",
    "    ridgeModel = Ridge(alpha = i * 0.25) \n",
    "    ridgeModel.fit(X_train, y_train) \n",
    "    scores = cross_val_score(ridgeModel, X, y, cv = 10) \n",
    "    avg_cross_val_score = mean(scores)*100\n",
    "    cross_val_scores_ridge.append(avg_cross_val_score) \n",
    "    alpha.append(i * 0.25) \n",
    "  \n",
    "# Loop to print the different values of cross-validation scores \n",
    "for i in range(0, len(alpha)): \n",
    "    print(str(alpha[i])+' : '+str(cross_val_scores_ridge[i])) "
   ]
  },
  {
   "cell_type": "markdown",
   "metadata": {},
   "source": [
    "The value 2 for alpha yields the best results for us."
   ]
  },
  {
   "cell_type": "code",
   "execution_count": 134,
   "metadata": {},
   "outputs": [
    {
     "name": "stdout",
     "output_type": "stream",
     "text": [
      "train score : 0.46\n",
      "test score : 0.49\n"
     ]
    }
   ],
   "source": [
    "ridgeModel = Ridge(alpha = 2, normalize=True) \n",
    "ridgeModel.fit(X_train, y_train) \n",
    "\n",
    "#Predict\n",
    "y_test_preds = ridgeModel.predict(X_test)\n",
    "y_train_preds = ridgeModel.predict(X_train)\n",
    "\n",
    "#Score\n",
    "train_score = r2_score(y_train, y_train_preds)\n",
    "test_score = r2_score(y_test, y_test_preds)\n",
    "\n",
    "print(\"train score : %.2f\"%train_score)\n",
    "print(\"test score : %.2f\"%test_score)"
   ]
  },
  {
   "cell_type": "markdown",
   "metadata": {},
   "source": [
    "Significance of R-Sqaured and Goodness-of-fit for a Linear Model\n",
    "\n",
    "https://blog.minitab.com/blog/adventures-in-statistics-2/regression-analysis-how-do-i-interpret-r-squared-and-assess-the-goodness-of-fit#:~:text=R%2Dsquared%20is%20a%20statistical,multiple%20determination%20for%20multiple%20regression.&text=0%25%20indicates%20that%20the%20model,response%20data%20around%20its%20mean."
   ]
  },
  {
   "cell_type": "markdown",
   "metadata": {},
   "source": [
    "** Model Performance and Learnings **\n",
    "\n",
    "Both lasso and ridge regression do not give us any improvement in our r2 score. It is, on the contrary, bringing our r2_score down. Why?\n",
    "\n",
    "One of the reasons lasso regression does not necessarily improve our r2 score is when we have correlated variables, it retains only one variable and sets other correlated variables to zero. That will possibly lead to some loss of information resulting in lower accuracy in our model.\n",
    "\n",
    "While applying ridge regression, it will retain all of the features but will shrink the coefficients. But the problem is that model will still remain complex as all the features are still present in the model, thus may lead to poor model performance. \n",
    "\n",
    "Ridge regression won't necessarily improve the error. The goal of the regularization is to make a simpler model to avoid overfitting and thus better prediction on the independent set. However, if overfitting is not a problem (for example when there are much more samples than features), more complex model (less regularized) might predict better. Often models predict better when they are more complex and not less, which is why things like neural networks, random forests and kernels exist.\n"
   ]
  },
  {
   "cell_type": "markdown",
   "metadata": {},
   "source": [
    "Therefore, for now we are able to predict, only with approx 59% accuracy, the price of an AirBnb rental in Seattle based on the \n",
    "\n",
    "1. zipcode: which is essentially telling us about the neighbourhood the rental is located in\n",
    "2. property_type: the type of property i.e. a house, lofts, townhouses, condos etc.\n",
    "3. room_type: private or shared\n",
    "4. number of bathrooms: ranging from 1 to 8\n",
    "5. bedrooms: ranging from 1 to 7\n",
    "6. number of beds: ranging from 1 to 2\n",
    "7. accommodates: ranging from 1 to 16\n",
    "8. guests included: ranging from 1 to 15\n",
    "9. review scores location: ranging from 4 to 10\n",
    "\n",
    "PS: The accuracy for this model can be improved based on further applications of feature engineering and improved model selections. The current process focuses on the EDA (Exploratory Data Analysis) and the CRISP-DM (Cross-industry standard process for data mining) process for data science"
   ]
  },
  {
   "cell_type": "markdown",
   "metadata": {},
   "source": [
    "**CRISP DM Step 5. Evaluation **"
   ]
  },
  {
   "cell_type": "code",
   "execution_count": 135,
   "metadata": {},
   "outputs": [
    {
     "data": {
      "text/html": [
       "<div>\n",
       "<style scoped>\n",
       "    .dataframe tbody tr th:only-of-type {\n",
       "        vertical-align: middle;\n",
       "    }\n",
       "\n",
       "    .dataframe tbody tr th {\n",
       "        vertical-align: top;\n",
       "    }\n",
       "\n",
       "    .dataframe thead th {\n",
       "        text-align: right;\n",
       "    }\n",
       "</style>\n",
       "<table border=\"1\" class=\"dataframe\">\n",
       "  <thead>\n",
       "    <tr style=\"text-align: right;\">\n",
       "      <th></th>\n",
       "      <th>est_int</th>\n",
       "      <th>weight</th>\n",
       "      <th>feature</th>\n",
       "      <th>absolute_weight</th>\n",
       "    </tr>\n",
       "  </thead>\n",
       "  <tbody>\n",
       "    <tr>\n",
       "      <th>35</th>\n",
       "      <td>property_type_Boat</td>\n",
       "      <td>130.23</td>\n",
       "      <td>property</td>\n",
       "      <td>130.23</td>\n",
       "    </tr>\n",
       "    <tr>\n",
       "      <th>30</th>\n",
       "      <td>zipcode_98177</td>\n",
       "      <td>-88.16</td>\n",
       "      <td>zipcode</td>\n",
       "      <td>88.16</td>\n",
       "    </tr>\n",
       "    <tr>\n",
       "      <th>31</th>\n",
       "      <td>zipcode_98178</td>\n",
       "      <td>-85.35</td>\n",
       "      <td>zipcode</td>\n",
       "      <td>85.35</td>\n",
       "    </tr>\n",
       "    <tr>\n",
       "      <th>41</th>\n",
       "      <td>property_type_Dorm</td>\n",
       "      <td>-68.28</td>\n",
       "      <td>property</td>\n",
       "      <td>68.28</td>\n",
       "    </tr>\n",
       "    <tr>\n",
       "      <th>25</th>\n",
       "      <td>zipcode_98133</td>\n",
       "      <td>-66.84</td>\n",
       "      <td>zipcode</td>\n",
       "      <td>66.84</td>\n",
       "    </tr>\n",
       "    <tr>\n",
       "      <th>26</th>\n",
       "      <td>zipcode_98134</td>\n",
       "      <td>65.58</td>\n",
       "      <td>zipcode</td>\n",
       "      <td>65.58</td>\n",
       "    </tr>\n",
       "    <tr>\n",
       "      <th>50</th>\n",
       "      <td>room_type_Shared room</td>\n",
       "      <td>-65.18</td>\n",
       "      <td>room</td>\n",
       "      <td>65.18</td>\n",
       "    </tr>\n",
       "    <tr>\n",
       "      <th>13</th>\n",
       "      <td>zipcode_98108</td>\n",
       "      <td>-64.23</td>\n",
       "      <td>zipcode</td>\n",
       "      <td>64.23</td>\n",
       "    </tr>\n",
       "    <tr>\n",
       "      <th>11</th>\n",
       "      <td>zipcode_98106</td>\n",
       "      <td>-63.00</td>\n",
       "      <td>zipcode</td>\n",
       "      <td>63.00</td>\n",
       "    </tr>\n",
       "    <tr>\n",
       "      <th>19</th>\n",
       "      <td>zipcode_98118</td>\n",
       "      <td>-57.75</td>\n",
       "      <td>zipcode</td>\n",
       "      <td>57.75</td>\n",
       "    </tr>\n",
       "  </tbody>\n",
       "</table>\n",
       "</div>"
      ],
      "text/plain": [
       "                  est_int  weight   feature  absolute_weight\n",
       "35     property_type_Boat  130.23  property           130.23\n",
       "30          zipcode_98177  -88.16   zipcode            88.16\n",
       "31          zipcode_98178  -85.35   zipcode            85.35\n",
       "41     property_type_Dorm  -68.28  property            68.28\n",
       "25          zipcode_98133  -66.84   zipcode            66.84\n",
       "26          zipcode_98134   65.58   zipcode            65.58\n",
       "50  room_type_Shared room  -65.18      room            65.18\n",
       "13          zipcode_98108  -64.23   zipcode            64.23\n",
       "11          zipcode_98106  -63.00   zipcode            63.00\n",
       "19          zipcode_98118  -57.75   zipcode            57.75"
      ]
     },
     "execution_count": 135,
     "metadata": {},
     "output_type": "execute_result"
    }
   ],
   "source": [
    "def coef_weights(coefficients, X_train):\n",
    "    '''\n",
    "    INPUT:\n",
    "    coefficients - the coefficients of the linear model \n",
    "    X_train - the training data, so the column names can be used\n",
    "    OUTPUT:\n",
    "    coefs_df - a dataframe holding the coefficient, estimate, and abs(estimate)\n",
    "    \n",
    "    Provides a dataframe that can be used to understand the most influential coefficients\n",
    "    in a linear model by providing the coefficient estimates along with the name of the \n",
    "    variable attached to the coefficient.\n",
    "    '''\n",
    "    coefs_df = pd.DataFrame()\n",
    "    coefs_df['est_int'] = X_train.columns\n",
    "    coefs_df['weight'] = lm_model.coef_\n",
    "    coefs_df['feature'] = coefs_df['est_int'].apply(lambda x: x.split(\"_\")[0])\n",
    "    coefs_df['absolute_weight'] = np.abs(lm_model.coef_)\n",
    "    coefs_df = coefs_df.sort_values('absolute_weight', ascending=False)\n",
    "    return coefs_df\n",
    "\n",
    "#Use the function\n",
    "coef_df = coef_weights(lm_model.coef_, X_train)\n",
    "\n",
    "#A quick look at the top results\n",
    "coef_df.head(10)"
   ]
  },
  {
   "cell_type": "markdown",
   "metadata": {},
   "source": [
    "**Conclusion**\n",
    "\n",
    "Based on the coefficient value above, the factors of  **\"property type\"** along with the **\"zipcode\"** are the biggest influencing factors for an AirBnB rental in the Seattle area. This is in line with the common notion that rentals in expensive neighbourhoods lead up to higher prices, in addition to the property type being rented out.\n",
    "\n",
    "When you are looking for your next trip to Seattle, try selecting between different neighbourhoods and property types to find that ideal weekend getaway in Seattle."
   ]
  }
 ],
 "metadata": {
  "kernelspec": {
   "display_name": "Python 3",
   "language": "python",
   "name": "python3"
  },
  "language_info": {
   "codemirror_mode": {
    "name": "ipython",
    "version": 3
   },
   "file_extension": ".py",
   "mimetype": "text/x-python",
   "name": "python",
   "nbconvert_exporter": "python",
   "pygments_lexer": "ipython3",
   "version": "3.6.4"
  }
 },
 "nbformat": 4,
 "nbformat_minor": 1
}
